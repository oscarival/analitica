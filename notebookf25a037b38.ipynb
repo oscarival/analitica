{
 "cells": [
  {
   "cell_type": "code",
   "execution_count": 1,
   "metadata": {
    "_cell_guid": "b1076dfc-b9ad-4769-8c92-a6c4dae69d19",
    "_uuid": "8f2839f25d086af736a60e9eeb907d3b93b6e0e5",
    "execution": {
     "iopub.execute_input": "2021-12-26T14:01:40.623030Z",
     "iopub.status.busy": "2021-12-26T14:01:40.622697Z",
     "iopub.status.idle": "2021-12-26T14:01:58.811999Z",
     "shell.execute_reply": "2021-12-26T14:01:58.811014Z",
     "shell.execute_reply.started": "2021-12-26T14:01:40.622950Z"
    }
   },
   "outputs": [
    {
     "name": "stdout",
     "output_type": "stream",
     "text": [
      "\u001b[33mWARNING: Running pip as the 'root' user can result in broken permissions and conflicting behaviour with the system package manager. It is recommended to use a virtual environment instead: https://pip.pypa.io/warnings/venv\u001b[0m\n"
     ]
    },
    {
     "name": "stderr",
     "output_type": "stream",
     "text": [
      "2021-12-26 14:01:53.250079: W tensorflow/stream_executor/platform/default/dso_loader.cc:60] Could not load dynamic library 'libcudart.so.11.0'; dlerror: libcudart.so.11.0: cannot open shared object file: No such file or directory; LD_LIBRARY_PATH: /opt/conda/lib\n",
      "2021-12-26 14:01:53.250204: I tensorflow/stream_executor/cuda/cudart_stub.cc:29] Ignore above cudart dlerror if you do not have a GPU set up on your machine.\n"
     ]
    }
   ],
   "source": [
    "!pip install -q efficientnet\n",
    "import efficientnet.tfkeras as efn\n",
    "\n",
    "from kaggle_datasets import KaggleDatasets\n",
    "import re\n",
    "import numpy as np\n",
    "import pandas as pd\n",
    "import tensorflow as tf\n",
    "from tensorflow.keras.callbacks import ModelCheckpoint, EarlyStopping, ReduceLROnPlateau\n",
    "from tensorflow.keras import models\n",
    "from tensorflow.keras.applications import EfficientNetB6\n",
    "from tensorflow.keras import layers, optimizers\n",
    "from tensorflow.keras import models\n",
    "\n",
    "from sklearn.model_selection import train_test_split\n",
    "from functools import partial\n",
    "\n",
    "# ignoring warnings\n",
    "import warnings\n",
    "warnings.simplefilter(\"ignore\")\n",
    "warnings.filterwarnings('ignore')"
   ]
  },
  {
   "cell_type": "code",
   "execution_count": 2,
   "metadata": {
    "execution": {
     "iopub.execute_input": "2021-12-26T14:01:58.815499Z",
     "iopub.status.busy": "2021-12-26T14:01:58.814927Z",
     "iopub.status.idle": "2021-12-26T14:02:05.142668Z",
     "shell.execute_reply": "2021-12-26T14:02:05.141448Z",
     "shell.execute_reply.started": "2021-12-26T14:01:58.815450Z"
    }
   },
   "outputs": [
    {
     "name": "stdout",
     "output_type": "stream",
     "text": [
      "Device: grpc://10.0.0.2:8470\n"
     ]
    },
    {
     "name": "stderr",
     "output_type": "stream",
     "text": [
      "2021-12-26 14:01:58.844735: I tensorflow/compiler/jit/xla_cpu_device.cc:41] Not creating XLA devices, tf_xla_enable_xla_devices not set\n",
      "2021-12-26 14:01:58.848036: W tensorflow/stream_executor/platform/default/dso_loader.cc:60] Could not load dynamic library 'libcuda.so.1'; dlerror: libcuda.so.1: cannot open shared object file: No such file or directory; LD_LIBRARY_PATH: /opt/conda/lib\n",
      "2021-12-26 14:01:58.848075: W tensorflow/stream_executor/cuda/cuda_driver.cc:326] failed call to cuInit: UNKNOWN ERROR (303)\n",
      "2021-12-26 14:01:58.848102: I tensorflow/stream_executor/cuda/cuda_diagnostics.cc:156] kernel driver does not appear to be running on this host (c367684ccaa9): /proc/driver/nvidia/version does not exist\n",
      "2021-12-26 14:01:58.848795: I tensorflow/core/platform/cpu_feature_guard.cc:142] This TensorFlow binary is optimized with oneAPI Deep Neural Network Library (oneDNN) to use the following CPU instructions in performance-critical operations:  AVX2 FMA\n",
      "To enable them in other operations, rebuild TensorFlow with the appropriate compiler flags.\n",
      "2021-12-26 14:01:58.849197: I tensorflow/compiler/jit/xla_gpu_device.cc:99] Not creating XLA devices, tf_xla_enable_xla_devices not set\n",
      "2021-12-26 14:01:58.854626: I tensorflow/compiler/jit/xla_gpu_device.cc:99] Not creating XLA devices, tf_xla_enable_xla_devices not set\n",
      "2021-12-26 14:01:58.886864: I tensorflow/core/distributed_runtime/rpc/grpc_channel.cc:301] Initialize GrpcChannelCache for job worker -> {0 -> 10.0.0.2:8470}\n",
      "2021-12-26 14:01:58.886926: I tensorflow/core/distributed_runtime/rpc/grpc_channel.cc:301] Initialize GrpcChannelCache for job localhost -> {0 -> localhost:30043}\n",
      "2021-12-26 14:01:58.902843: I tensorflow/core/distributed_runtime/rpc/grpc_channel.cc:301] Initialize GrpcChannelCache for job worker -> {0 -> 10.0.0.2:8470}\n",
      "2021-12-26 14:01:58.902900: I tensorflow/core/distributed_runtime/rpc/grpc_channel.cc:301] Initialize GrpcChannelCache for job localhost -> {0 -> localhost:30043}\n",
      "2021-12-26 14:01:58.904599: I tensorflow/core/distributed_runtime/rpc/grpc_server_lib.cc:411] Started server with target: grpc://localhost:30043\n"
     ]
    },
    {
     "name": "stdout",
     "output_type": "stream",
     "text": [
      "Number of replicas: 8\n"
     ]
    }
   ],
   "source": [
    "tf.keras.backend.clear_session()\n",
    "\n",
    "XLA_ACCELERATE = True\n",
    "MIXED_PRECISION = True\n",
    "\n",
    "# Enabling XLA\n",
    "if XLA_ACCELERATE:\n",
    "    tf.config.optimizer.set_jit(True)\n",
    "        \n",
    "try:\n",
    "    tpu = tf.distribute.cluster_resolver.TPUClusterResolver()\n",
    "    print('Device:', tpu.master())\n",
    "    tf.config.experimental_connect_to_cluster(tpu)\n",
    "    tf.tpu.experimental.initialize_tpu_system(tpu)\n",
    "    \n",
    "    strategy = tf.distribute.experimental.TPUStrategy(tpu)\n",
    "    \n",
    "    # Enabling mixed precision for TPUs\n",
    "    if MIXED_PRECISION:\n",
    "        #mixed_precision.set_global_policy('mixed_bfloat16')\n",
    "        tf.keras.mixed_precision.set_global_policy(\"mixed_bfloat16\")\n",
    "        \n",
    "except Exception as e:\n",
    "    strategy = tf.distribute.get_strategy()\n",
    "\n",
    "    # Enabling mixed precision for CPUs/GPUs\n",
    "    if MIXED_PRECISION:\n",
    "        #mixed_precision.set_global_policy('mixed_float16')\n",
    "        tf.keras.mixed_precision.set_global_policy(\"mixed_bfloat16\")\n",
    "\n",
    "        \n",
    "print('Number of replicas:', strategy.num_replicas_in_sync)"
   ]
  },
  {
   "cell_type": "code",
   "execution_count": 3,
   "metadata": {
    "execution": {
     "iopub.execute_input": "2021-12-26T14:02:05.144266Z",
     "iopub.status.busy": "2021-12-26T14:02:05.143950Z",
     "iopub.status.idle": "2021-12-26T14:02:05.149887Z",
     "shell.execute_reply": "2021-12-26T14:02:05.149217Z",
     "shell.execute_reply.started": "2021-12-26T14:02:05.144227Z"
    }
   },
   "outputs": [],
   "source": [
    "AUTOTUNE = tf.data.experimental.AUTOTUNE\n",
    "IMAGE_SIZE = [512, 512]\n",
    "BATCH_SIZE = 16 * strategy.num_replicas_in_sync"
   ]
  },
  {
   "cell_type": "code",
   "execution_count": 4,
   "metadata": {
    "execution": {
     "iopub.execute_input": "2021-12-26T14:02:05.151957Z",
     "iopub.status.busy": "2021-12-26T14:02:05.151717Z",
     "iopub.status.idle": "2021-12-26T14:02:05.164502Z",
     "shell.execute_reply": "2021-12-26T14:02:05.163585Z",
     "shell.execute_reply.started": "2021-12-26T14:02:05.151927Z"
    }
   },
   "outputs": [],
   "source": [
    "def count_data_items(filenames):\n",
    "    n = [int(re.compile(r'-([0-9]*)\\.').search(filename).group(1)) for filename in filenames]\n",
    "    return np.sum(n)"
   ]
  },
  {
   "cell_type": "code",
   "execution_count": 5,
   "metadata": {
    "execution": {
     "iopub.execute_input": "2021-12-26T14:02:05.166324Z",
     "iopub.status.busy": "2021-12-26T14:02:05.165990Z",
     "iopub.status.idle": "2021-12-26T14:02:05.215007Z",
     "shell.execute_reply": "2021-12-26T14:02:05.214054Z",
     "shell.execute_reply.started": "2021-12-26T14:02:05.166256Z"
    }
   },
   "outputs": [
    {
     "name": "stdout",
     "output_type": "stream",
     "text": [
      "Train samples: 21397\n"
     ]
    }
   ],
   "source": [
    "database_base_path = '/kaggle/input/cassava-leaf-disease-classification/'\n",
    "train = pd.read_csv(f'{database_base_path}train.csv')\n",
    "print(f'Train samples: {len(train)}')"
   ]
  },
  {
   "cell_type": "code",
   "execution_count": 7,
   "metadata": {
    "execution": {
     "iopub.execute_input": "2021-12-26T14:05:50.054821Z",
     "iopub.status.busy": "2021-12-26T14:05:50.054488Z",
     "iopub.status.idle": "2021-12-26T14:08:10.670334Z",
     "shell.execute_reply": "2021-12-26T14:08:10.669683Z",
     "shell.execute_reply.started": "2021-12-26T14:05:50.054786Z"
    }
   },
   "outputs": [
    {
     "name": "stdout",
     "output_type": "stream",
     "text": [
      "GCS: train images: 21397\n"
     ]
    },
    {
     "name": "stderr",
     "output_type": "stream",
     "text": [
      "2021-12-26 14:08:10.486856: I tensorflow/core/platform/cloud/google_auth_provider.cc:180] Attempting an empty bearer token since no token was retrieved from files, and GCE metadata check was skipped.\n"
     ]
    }
   ],
   "source": [
    "GCS_PATH = KaggleDatasets().get_gcs_path('cassava-leaf-disease-classification')\n",
    "filenames = tf.io.gfile.glob(GCS_PATH + '/train_tfrecords/*.tfrec')\n",
    "NUM_TRAINING_IMAGES = count_data_items(filenames)\n",
    "print(f'GCS: train images: {NUM_TRAINING_IMAGES}')"
   ]
  },
  {
   "cell_type": "code",
   "execution_count": 8,
   "metadata": {
    "execution": {
     "iopub.execute_input": "2021-12-26T14:08:32.525930Z",
     "iopub.status.busy": "2021-12-26T14:08:32.525134Z",
     "iopub.status.idle": "2021-12-26T14:08:32.837162Z",
     "shell.execute_reply": "2021-12-26T14:08:32.835986Z",
     "shell.execute_reply.started": "2021-12-26T14:08:32.525890Z"
    }
   },
   "outputs": [
    {
     "name": "stderr",
     "output_type": "stream",
     "text": [
      "2021-12-26 14:08:32.536112: I tensorflow/core/platform/cloud/google_auth_provider.cc:180] Attempting an empty bearer token since no token was retrieved from files, and GCE metadata check was skipped.\n",
      "2021-12-26 14:08:32.682941: I tensorflow/core/platform/cloud/google_auth_provider.cc:180] Attempting an empty bearer token since no token was retrieved from files, and GCE metadata check was skipped.\n"
     ]
    },
    {
     "name": "stdout",
     "output_type": "stream",
     "text": [
      "Dataset: 16045 training images, 5352 validation images, 1 (unlabeled) test images\n"
     ]
    }
   ],
   "source": [
    "def load_dataset(filenames, labeled=True, ordered=False):\n",
    "    ignore_order = tf.data.Options()\n",
    "    if not ordered:\n",
    "        ignore_order.experimental_deterministic = False # disable order, increase speed\n",
    "    dataset = tf.data.TFRecordDataset(filenames, num_parallel_reads=AUTOTUNE) # automatically interleaves reads from multiple files\n",
    "    dataset = dataset.with_options(ignore_order) # uses data as soon as it streams in, rather than in its original order\n",
    "    dataset = dataset.map(partial(read_tfrecord, labeled=labeled), num_parallel_calls=AUTOTUNE)\n",
    "    return dataset\n",
    "\n",
    "\n",
    "TRAINING_FILENAMES, VALID_FILENAMES = train_test_split(\n",
    "    tf.io.gfile.glob(GCS_PATH + '/train_tfrecords/ld_train*.tfrec'),\n",
    "    test_size=0.2, random_state=5\n",
    ")\n",
    "\n",
    "TEST_FILENAMES = tf.io.gfile.glob(GCS_PATH + '/test_tfrecords/ld_test*.tfrec')\n",
    "\n",
    "\n",
    "def count_data_items(filenames):\n",
    "    n = [int(re.compile(r\"-([0-9]*)\\.\").search(filename).group(1)) for filename in filenames]\n",
    "    return np.sum(n)\n",
    "\n",
    "NUM_TRAINING_IMAGES = count_data_items(TRAINING_FILENAMES)\n",
    "NUM_VALIDATION_IMAGES = count_data_items(VALID_FILENAMES)\n",
    "NUM_TEST_IMAGES = count_data_items(TEST_FILENAMES)\n",
    "\n",
    "print('Dataset: {} training images, {} validation images, {} (unlabeled) test images'.format(\n",
    "    NUM_TRAINING_IMAGES, NUM_VALIDATION_IMAGES, NUM_TEST_IMAGES))\n",
    "\n",
    "def data_augment(image, label):\n",
    "    image = tf.image.random_flip_left_right(image)\n",
    "    image = tf.image.random_flip_up_down(image)\n",
    "    image = tf.image.rot90(image, k=1) # rotate 90º\n",
    "    image = tf.image.random_brightness(image, max_delta=.2)\n",
    "    return image, label"
   ]
  },
  {
   "cell_type": "code",
   "execution_count": 9,
   "metadata": {
    "execution": {
     "iopub.execute_input": "2021-12-26T14:08:41.264231Z",
     "iopub.status.busy": "2021-12-26T14:08:41.263717Z",
     "iopub.status.idle": "2021-12-26T14:08:41.271399Z",
     "shell.execute_reply": "2021-12-26T14:08:41.270642Z",
     "shell.execute_reply.started": "2021-12-26T14:08:41.264186Z"
    }
   },
   "outputs": [],
   "source": [
    "def get_training_dataset():\n",
    "    dataset = load_dataset(TRAINING_FILENAMES, labeled=True)  \n",
    "    dataset = dataset.map(data_augment, num_parallel_calls=AUTOTUNE)  \n",
    "    dataset = dataset.repeat()\n",
    "    dataset = dataset.shuffle(2048)\n",
    "    dataset = dataset.batch(BATCH_SIZE)\n",
    "    dataset = dataset.prefetch(AUTOTUNE)\n",
    "    return dataset\n",
    "\n",
    "def get_validation_dataset(ordered=False):\n",
    "    dataset = load_dataset(VALID_FILENAMES, labeled=True, ordered=ordered) \n",
    "    dataset = dataset.batch(BATCH_SIZE)\n",
    "    dataset = dataset.cache()\n",
    "    dataset = dataset.prefetch(AUTOTUNE)\n",
    "    return dataset\n",
    "\n",
    "def get_test_dataset(ordered=False):\n",
    "    dataset = load_dataset(TEST_FILENAMES, labeled=False, ordered=ordered)\n",
    "    dataset = dataset.batch(BATCH_SIZE)\n",
    "    dataset = dataset.prefetch(AUTOTUNE)\n",
    "    return dataset"
   ]
  },
  {
   "cell_type": "code",
   "execution_count": 10,
   "metadata": {
    "execution": {
     "iopub.execute_input": "2021-12-26T14:08:47.504011Z",
     "iopub.status.busy": "2021-12-26T14:08:47.503725Z",
     "iopub.status.idle": "2021-12-26T14:08:47.512727Z",
     "shell.execute_reply": "2021-12-26T14:08:47.511989Z",
     "shell.execute_reply.started": "2021-12-26T14:08:47.503983Z"
    }
   },
   "outputs": [],
   "source": [
    "def decode_image(image):\n",
    "    image = tf.image.decode_jpeg(image, channels=3)\n",
    "    image = tf.cast(image, tf.float32) / 255.0\n",
    "    image = tf.reshape(image, [*IMAGE_SIZE, 3])\n",
    "    return image\n",
    "\n",
    "def read_tfrecord(example, labeled):\n",
    "    tfrecord_format = {\n",
    "        \"image\": tf.io.FixedLenFeature([], tf.string),\n",
    "        \"target\": tf.io.FixedLenFeature([], tf.int64)\n",
    "    } if labeled else {\n",
    "        \"image\": tf.io.FixedLenFeature([], tf.string),\n",
    "        \"image_name\": tf.io.FixedLenFeature([], tf.string)\n",
    "    }\n",
    "    example = tf.io.parse_single_example(example, tfrecord_format)\n",
    "    image = decode_image(example['image'])\n",
    "    if labeled:\n",
    "        label = tf.cast(example['target'], tf.int32)\n",
    "        return image, label\n",
    "    idnum = example['image_name']\n",
    "    return image, idnum"
   ]
  },
  {
   "cell_type": "code",
   "execution_count": 10,
   "metadata": {
    "execution": {
     "iopub.execute_input": "2021-12-26T01:10:14.549479Z",
     "iopub.status.busy": "2021-12-26T01:10:14.549169Z",
     "iopub.status.idle": "2021-12-26T01:10:14.559306Z",
     "shell.execute_reply": "2021-12-26T01:10:14.558311Z",
     "shell.execute_reply.started": "2021-12-26T01:10:14.549449Z"
    }
   },
   "outputs": [],
   "source": [
    "# Stop training when the validation loss metric has stopped decreasing for 5 epochs.\n",
    "#early_stopping = EarlyStopping(monitor = 'val_loss',\n",
    "#                              patience = 10,\n",
    "#                               mode = 'min',\n",
    "#                               restore_best_weights = True)\n",
    "\n",
    "# Save the model with the minimum validation loss\n",
    "#checkpoint = ModelCheckpoint('best_model.hdf5', \n",
    "#                             monitor = 'val_loss',\n",
    "#                             verbose = 1,\n",
    "#                             mode = 'min', \n",
    "#                             save_best_only = True)\n",
    "# reduce learning rate\n",
    "#reduce_lr = ReduceLROnPlateau(monitor = 'val_loss',\n",
    "#                              factor = 0.2,\n",
    "#                              patience = 3,\n",
    "#                              min_lr = 0.001,\n",
    "#                              mode = 'min',\n",
    "#                              verbose = 1)"
   ]
  },
  {
   "cell_type": "code",
   "execution_count": 11,
   "metadata": {
    "execution": {
     "iopub.execute_input": "2021-12-26T14:08:53.012596Z",
     "iopub.status.busy": "2021-12-26T14:08:53.011821Z",
     "iopub.status.idle": "2021-12-26T14:08:53.018887Z",
     "shell.execute_reply": "2021-12-26T14:08:53.017730Z",
     "shell.execute_reply.started": "2021-12-26T14:08:53.012560Z"
    }
   },
   "outputs": [],
   "source": [
    "checkpoint = ModelCheckpoint('Tbest_model.hdf5', save_best_only = True, monitor = 'val_loss', mode = 'min', verbose = 1)\n",
    "early_stopping = EarlyStopping(monitor = 'val_loss', min_delta = 0.001, patience = 10, mode = 'min', verbose = 1, restore_best_weights = True)\n",
    "reduce_lr = ReduceLROnPlateau(monitor = 'val_loss', factor = 0.2, patience = 3, min_delta = 0.001, mode = 'min', verbose = 1)"
   ]
  },
  {
   "cell_type": "code",
   "execution_count": 12,
   "metadata": {
    "execution": {
     "iopub.execute_input": "2021-12-26T01:10:14.577489Z",
     "iopub.status.busy": "2021-12-26T01:10:14.577236Z",
     "iopub.status.idle": "2021-12-26T01:11:02.811303Z",
     "shell.execute_reply": "2021-12-26T01:11:02.810181Z",
     "shell.execute_reply.started": "2021-12-26T01:10:14.577462Z"
    }
   },
   "outputs": [
    {
     "name": "stdout",
     "output_type": "stream",
     "text": [
      "Downloading data from https://github.com/Callidior/keras-applications/releases/download/efficientnet/efficientnet-b7_weights_tf_dim_ordering_tf_kernels_autoaugment_notop.h5\n",
      "258441216/258434480 [==============================] - 7s 0us/step\n",
      "Model: \"sequential\"\n",
      "_________________________________________________________________\n",
      "Layer (type)                 Output Shape              Param #   \n",
      "=================================================================\n",
      "efficientnet-b7 (Functional) (None, 16, 16, 2560)      64097680  \n",
      "_________________________________________________________________\n",
      "global_average_pooling2d (Gl (None, 2560)              0         \n",
      "_________________________________________________________________\n",
      "dense (Dense)                (None, 5)                 12805     \n",
      "=================================================================\n",
      "Total params: 64,110,485\n",
      "Trainable params: 63,799,765\n",
      "Non-trainable params: 310,720\n",
      "_________________________________________________________________\n"
     ]
    }
   ],
   "source": [
    "with strategy.scope():\n",
    "    model = tf.keras.Sequential([\n",
    "        efn.EfficientNetB7(\n",
    "            input_shape=(*IMAGE_SIZE, 3),\n",
    "            weights='imagenet',\n",
    "            include_top=False\n",
    "        ),\n",
    "        layers.GlobalAveragePooling2D(),\n",
    "        layers.Dense(5, activation='softmax')\n",
    "    ])\n",
    "    \n",
    "    model.compile(\n",
    "        optimizer='adam',\n",
    "        loss='sparse_categorical_crossentropy',\n",
    "        metrics=['sparse_categorical_accuracy']\n",
    "    )\n",
    "    \n",
    "    model.summary()"
   ]
  },
  {
   "cell_type": "code",
   "execution_count": 12,
   "metadata": {
    "execution": {
     "iopub.execute_input": "2021-12-26T14:08:58.668480Z",
     "iopub.status.busy": "2021-12-26T14:08:58.667959Z",
     "iopub.status.idle": "2021-12-26T14:08:59.273251Z",
     "shell.execute_reply": "2021-12-26T14:08:59.272497Z",
     "shell.execute_reply.started": "2021-12-26T14:08:58.668448Z"
    }
   },
   "outputs": [],
   "source": [
    "import tensorflow.keras.backend as K\n",
    "\n",
    "def to_float32(image, label):\n",
    "    return tf.cast(image, tf.float32), label\n",
    "\n",
    "# TPUs need images in float format\n",
    "train_dataset = get_training_dataset().map(to_float32)\n",
    "valid_dataset = get_validation_dataset().map(to_float32)\n",
    "\n",
    "STEPS_PER_EPOCH = NUM_TRAINING_IMAGES // BATCH_SIZE\n",
    "VALID_STEPS = NUM_VALIDATION_IMAGES // BATCH_SIZE"
   ]
  },
  {
   "cell_type": "code",
   "execution_count": 14,
   "metadata": {
    "execution": {
     "iopub.execute_input": "2021-12-26T01:11:03.245886Z",
     "iopub.status.busy": "2021-12-26T01:11:03.245513Z",
     "iopub.status.idle": "2021-12-26T01:48:09.606477Z",
     "shell.execute_reply": "2021-12-26T01:48:09.604427Z",
     "shell.execute_reply.started": "2021-12-26T01:11:03.245845Z"
    }
   },
   "outputs": [
    {
     "name": "stdout",
     "output_type": "stream",
     "text": [
      "Epoch 1/25\n",
      "125/125 [==============================] - 313s 954ms/step - loss: 0.7652 - sparse_categorical_accuracy: 0.7086 - val_loss: 0.6909 - val_sparse_categorical_accuracy: 0.8302\n",
      "\n",
      "Epoch 00001: val_loss improved from inf to 0.69090, saving model to Tbest_model.hdf5\n",
      "Epoch 2/25\n",
      "125/125 [==============================] - 96s 771ms/step - loss: 0.4495 - sparse_categorical_accuracy: 0.8507 - val_loss: 0.6130 - val_sparse_categorical_accuracy: 0.8304\n",
      "\n",
      "Epoch 00002: val_loss improved from 0.69090 to 0.61295, saving model to Tbest_model.hdf5\n",
      "Epoch 3/25\n",
      "125/125 [==============================] - 96s 770ms/step - loss: 0.4074 - sparse_categorical_accuracy: 0.8637 - val_loss: 0.4809 - val_sparse_categorical_accuracy: 0.8508\n",
      "\n",
      "Epoch 00003: val_loss improved from 0.61295 to 0.48088, saving model to Tbest_model.hdf5\n",
      "Epoch 4/25\n",
      "125/125 [==============================] - 96s 769ms/step - loss: 0.3482 - sparse_categorical_accuracy: 0.8832 - val_loss: 0.4824 - val_sparse_categorical_accuracy: 0.8413\n",
      "\n",
      "Epoch 00004: val_loss did not improve from 0.48088\n",
      "Epoch 5/25\n",
      "125/125 [==============================] - 96s 768ms/step - loss: 0.3293 - sparse_categorical_accuracy: 0.8839 - val_loss: 0.5129 - val_sparse_categorical_accuracy: 0.8417\n",
      "\n",
      "Epoch 00005: val_loss did not improve from 0.48088\n",
      "Epoch 6/25\n",
      "125/125 [==============================] - 96s 771ms/step - loss: 0.3067 - sparse_categorical_accuracy: 0.8967 - val_loss: 0.4599 - val_sparse_categorical_accuracy: 0.8418\n",
      "\n",
      "Epoch 00006: val_loss improved from 0.48088 to 0.45993, saving model to Tbest_model.hdf5\n",
      "Epoch 7/25\n",
      "125/125 [==============================] - 97s 779ms/step - loss: 0.2859 - sparse_categorical_accuracy: 0.9035 - val_loss: 0.5009 - val_sparse_categorical_accuracy: 0.8540\n",
      "\n",
      "Epoch 00007: val_loss did not improve from 0.45993\n",
      "Epoch 8/25\n",
      "125/125 [==============================] - 96s 771ms/step - loss: 0.2854 - sparse_categorical_accuracy: 0.9019 - val_loss: 0.4999 - val_sparse_categorical_accuracy: 0.8409\n",
      "\n",
      "Epoch 00008: val_loss did not improve from 0.45993\n",
      "Epoch 9/25\n",
      "125/125 [==============================] - 96s 769ms/step - loss: 0.2638 - sparse_categorical_accuracy: 0.9097 - val_loss: 0.5745 - val_sparse_categorical_accuracy: 0.8276\n",
      "\n",
      "Epoch 00009: val_loss did not improve from 0.45993\n",
      "\n",
      "Epoch 00009: ReduceLROnPlateau reducing learning rate to 0.00020000000949949026.\n",
      "Epoch 10/25\n",
      "125/125 [==============================] - 96s 771ms/step - loss: 0.2054 - sparse_categorical_accuracy: 0.9305 - val_loss: 0.3997 - val_sparse_categorical_accuracy: 0.8708\n",
      "\n",
      "Epoch 00010: val_loss improved from 0.45993 to 0.39968, saving model to Tbest_model.hdf5\n",
      "Epoch 11/25\n",
      "125/125 [==============================] - 96s 769ms/step - loss: 0.1515 - sparse_categorical_accuracy: 0.9508 - val_loss: 0.4686 - val_sparse_categorical_accuracy: 0.8489\n",
      "\n",
      "Epoch 00011: val_loss did not improve from 0.39968\n",
      "Epoch 12/25\n",
      "125/125 [==============================] - 97s 774ms/step - loss: 0.1214 - sparse_categorical_accuracy: 0.9615 - val_loss: 0.4432 - val_sparse_categorical_accuracy: 0.8653\n",
      "\n",
      "Epoch 00012: val_loss did not improve from 0.39968\n",
      "Epoch 13/25\n",
      "125/125 [==============================] - 96s 765ms/step - loss: 0.1067 - sparse_categorical_accuracy: 0.9636 - val_loss: 0.4601 - val_sparse_categorical_accuracy: 0.8632\n",
      "\n",
      "Epoch 00013: val_loss did not improve from 0.39968\n",
      "\n",
      "Epoch 00013: ReduceLROnPlateau reducing learning rate to 4.0000001899898055e-05.\n",
      "Epoch 14/25\n",
      "125/125 [==============================] - 96s 772ms/step - loss: 0.0830 - sparse_categorical_accuracy: 0.9731 - val_loss: 0.4610 - val_sparse_categorical_accuracy: 0.8691\n",
      "\n",
      "Epoch 00014: val_loss did not improve from 0.39968\n",
      "Epoch 15/25\n",
      "125/125 [==============================] - 96s 766ms/step - loss: 0.0769 - sparse_categorical_accuracy: 0.9751 - val_loss: 0.4718 - val_sparse_categorical_accuracy: 0.8697\n",
      "\n",
      "Epoch 00015: val_loss did not improve from 0.39968\n",
      "Epoch 16/25\n",
      "125/125 [==============================] - 96s 769ms/step - loss: 0.0690 - sparse_categorical_accuracy: 0.9766 - val_loss: 0.4707 - val_sparse_categorical_accuracy: 0.8712\n",
      "\n",
      "Epoch 00016: val_loss did not improve from 0.39968\n",
      "\n",
      "Epoch 00016: ReduceLROnPlateau reducing learning rate to 8.000000525498762e-06.\n",
      "Epoch 17/25\n",
      "125/125 [==============================] - 96s 769ms/step - loss: 0.0645 - sparse_categorical_accuracy: 0.9799 - val_loss: 0.4757 - val_sparse_categorical_accuracy: 0.8704\n",
      "\n",
      "Epoch 00017: val_loss did not improve from 0.39968\n",
      "Epoch 18/25\n",
      "125/125 [==============================] - 96s 771ms/step - loss: 0.0664 - sparse_categorical_accuracy: 0.9781 - val_loss: 0.4792 - val_sparse_categorical_accuracy: 0.8720\n",
      "\n",
      "Epoch 00018: val_loss did not improve from 0.39968\n",
      "Epoch 19/25\n",
      "125/125 [==============================] - 96s 770ms/step - loss: 0.0656 - sparse_categorical_accuracy: 0.9776 - val_loss: 0.4798 - val_sparse_categorical_accuracy: 0.8697\n",
      "\n",
      "Epoch 00019: val_loss did not improve from 0.39968\n",
      "\n",
      "Epoch 00019: ReduceLROnPlateau reducing learning rate to 1.6000001778593287e-06.\n",
      "Epoch 20/25\n",
      "125/125 [==============================] - 96s 770ms/step - loss: 0.0620 - sparse_categorical_accuracy: 0.9797 - val_loss: 0.4812 - val_sparse_categorical_accuracy: 0.8687\n",
      "Restoring model weights from the end of the best epoch.\n",
      "\n",
      "Epoch 00020: val_loss did not improve from 0.39968\n",
      "Epoch 00020: early stopping\n"
     ]
    }
   ],
   "source": [
    "history = model.fit(train_dataset, \n",
    "                    steps_per_epoch=STEPS_PER_EPOCH,\n",
    "                    epochs=25,\n",
    "                    validation_data=valid_dataset,\n",
    "                    validation_steps=VALID_STEPS,\n",
    "                    callbacks = [early_stopping, checkpoint, reduce_lr])"
   ]
  },
  {
   "cell_type": "code",
   "execution_count": 15,
   "metadata": {
    "execution": {
     "iopub.execute_input": "2021-12-26T01:48:09.611151Z",
     "iopub.status.busy": "2021-12-26T01:48:09.610836Z",
     "iopub.status.idle": "2021-12-26T01:48:10.278705Z",
     "shell.execute_reply": "2021-12-26T01:48:10.277737Z",
     "shell.execute_reply.started": "2021-12-26T01:48:09.611114Z"
    }
   },
   "outputs": [
    {
     "data": {
      "image/png": "[encoded data removed]",
      "text/plain": [
       "<Figure size 432x288 with 1 Axes>"
      ]
     },
     "metadata": {
      "needs_background": "light"
     },
     "output_type": "display_data"
    },
    {
     "data": {
      "image/png": "[encoded data removed]",
      "text/plain": [
       "<Figure size 432x288 with 1 Axes>"
      ]
     },
     "metadata": {
      "needs_background": "light"
     },
     "output_type": "display_data"
    }
   ],
   "source": [
    "history_frame = pd.DataFrame(history.history)\n",
    "history_frame.loc[:, ['loss', 'val_loss']].plot()\n",
    "history_frame.loc[:, ['sparse_categorical_accuracy', 'val_sparse_categorical_accuracy']].plot();"
   ]
  },
  {
   "cell_type": "code",
   "execution_count": 16,
   "metadata": {
    "execution": {
     "iopub.execute_input": "2021-12-26T01:48:10.280371Z",
     "iopub.status.busy": "2021-12-26T01:48:10.280053Z",
     "iopub.status.idle": "2021-12-26T01:48:50.402597Z",
     "shell.execute_reply": "2021-12-26T01:48:50.401534Z",
     "shell.execute_reply.started": "2021-12-26T01:48:10.280340Z"
    }
   },
   "outputs": [
    {
     "name": "stdout",
     "output_type": "stream",
     "text": [
      "Model: \"sequential_1\"\n",
      "_________________________________________________________________\n",
      "Layer (type)                 Output Shape              Param #   \n",
      "=================================================================\n",
      "efficientnet-b7 (Functional) (None, 16, 16, 2560)      64097680  \n",
      "_________________________________________________________________\n",
      "global_average_pooling2d_1 ( (None, 2560)              0         \n",
      "_________________________________________________________________\n",
      "dense_1 (Dense)              (None, 512)               1311232   \n",
      "_________________________________________________________________\n",
      "dropout (Dropout)            (None, 512)               0         \n",
      "_________________________________________________________________\n",
      "dense_2 (Dense)              (None, 5)                 2565      \n",
      "=================================================================\n",
      "Total params: 65,411,477\n",
      "Trainable params: 65,100,757\n",
      "Non-trainable params: 310,720\n",
      "_________________________________________________________________\n"
     ]
    }
   ],
   "source": [
    "with strategy.scope():\n",
    "    model = tf.keras.Sequential([\n",
    "        efn.EfficientNetB7(\n",
    "            input_shape=(*IMAGE_SIZE, 3),\n",
    "            weights='imagenet',\n",
    "            include_top=False\n",
    "        ),\n",
    "        layers.GlobalAveragePooling2D(),\n",
    "        layers.Dense(512, activation = 'relu'), \n",
    "        layers.Dropout(0.3),\n",
    "        layers.Dense(5, activation='softmax')\n",
    "    ])\n",
    "    \n",
    "    model.compile(\n",
    "        optimizer='adam',\n",
    "        loss='sparse_categorical_crossentropy',\n",
    "        metrics=['sparse_categorical_accuracy']\n",
    "    )\n",
    "    \n",
    "    model.summary()"
   ]
  },
  {
   "cell_type": "code",
   "execution_count": 17,
   "metadata": {
    "execution": {
     "iopub.execute_input": "2021-12-26T01:48:50.404539Z",
     "iopub.status.busy": "2021-12-26T01:48:50.404196Z",
     "iopub.status.idle": "2021-12-26T02:21:58.286160Z",
     "shell.execute_reply": "2021-12-26T02:21:58.284970Z",
     "shell.execute_reply.started": "2021-12-26T01:48:50.404484Z"
    }
   },
   "outputs": [
    {
     "name": "stdout",
     "output_type": "stream",
     "text": [
      "Epoch 1/25\n",
      "125/125 [==============================] - 314s 921ms/step - loss: 0.8661 - sparse_categorical_accuracy: 0.6886 - val_loss: 0.8358 - val_sparse_categorical_accuracy: 0.8144\n",
      "\n",
      "Epoch 00001: val_loss did not improve from 0.39968\n",
      "Epoch 2/25\n",
      "125/125 [==============================] - 96s 765ms/step - loss: 0.4621 - sparse_categorical_accuracy: 0.8452 - val_loss: 0.5135 - val_sparse_categorical_accuracy: 0.8340\n",
      "\n",
      "Epoch 00002: val_loss did not improve from 0.39968\n",
      "Epoch 3/25\n",
      "125/125 [==============================] - 96s 767ms/step - loss: 0.4144 - sparse_categorical_accuracy: 0.8604 - val_loss: 0.5458 - val_sparse_categorical_accuracy: 0.8462\n",
      "\n",
      "Epoch 00003: val_loss did not improve from 0.39968\n",
      "Epoch 4/25\n",
      "125/125 [==============================] - 96s 769ms/step - loss: 0.3760 - sparse_categorical_accuracy: 0.8762 - val_loss: 0.4174 - val_sparse_categorical_accuracy: 0.8641\n",
      "\n",
      "Epoch 00004: val_loss did not improve from 0.39968\n",
      "Epoch 5/25\n",
      "125/125 [==============================] - 96s 771ms/step - loss: 0.3490 - sparse_categorical_accuracy: 0.8792 - val_loss: 0.4589 - val_sparse_categorical_accuracy: 0.8508\n",
      "\n",
      "Epoch 00005: val_loss did not improve from 0.39968\n",
      "Epoch 6/25\n",
      "125/125 [==============================] - 96s 768ms/step - loss: 0.3190 - sparse_categorical_accuracy: 0.8942 - val_loss: 0.4379 - val_sparse_categorical_accuracy: 0.8546\n",
      "\n",
      "Epoch 00006: val_loss did not improve from 0.39968\n",
      "Epoch 7/25\n",
      "125/125 [==============================] - 96s 771ms/step - loss: 0.3046 - sparse_categorical_accuracy: 0.8978 - val_loss: 0.4409 - val_sparse_categorical_accuracy: 0.8479\n",
      "\n",
      "Epoch 00007: val_loss did not improve from 0.39968\n",
      "\n",
      "Epoch 00007: ReduceLROnPlateau reducing learning rate to 0.00020000000949949026.\n",
      "Epoch 8/25\n",
      "125/125 [==============================] - 96s 769ms/step - loss: 0.2674 - sparse_categorical_accuracy: 0.9112 - val_loss: 0.3831 - val_sparse_categorical_accuracy: 0.8748\n",
      "\n",
      "Epoch 00008: val_loss improved from 0.39968 to 0.38315, saving model to Tbest_model.hdf5\n",
      "Epoch 9/25\n",
      "125/125 [==============================] - 96s 772ms/step - loss: 0.1951 - sparse_categorical_accuracy: 0.9341 - val_loss: 0.3997 - val_sparse_categorical_accuracy: 0.8729\n",
      "\n",
      "Epoch 00009: val_loss did not improve from 0.38315\n",
      "Epoch 10/25\n",
      "125/125 [==============================] - 96s 771ms/step - loss: 0.1719 - sparse_categorical_accuracy: 0.9434 - val_loss: 0.3999 - val_sparse_categorical_accuracy: 0.8735\n",
      "\n",
      "Epoch 00010: val_loss did not improve from 0.38315\n",
      "Epoch 11/25\n",
      "125/125 [==============================] - 96s 772ms/step - loss: 0.1599 - sparse_categorical_accuracy: 0.9437 - val_loss: 0.4606 - val_sparse_categorical_accuracy: 0.8531\n",
      "\n",
      "Epoch 00011: val_loss did not improve from 0.38315\n",
      "\n",
      "Epoch 00011: ReduceLROnPlateau reducing learning rate to 4.0000001899898055e-05.\n",
      "Epoch 12/25\n",
      "125/125 [==============================] - 96s 771ms/step - loss: 0.1159 - sparse_categorical_accuracy: 0.9611 - val_loss: 0.4373 - val_sparse_categorical_accuracy: 0.8702\n",
      "\n",
      "Epoch 00012: val_loss did not improve from 0.38315\n",
      "Epoch 13/25\n",
      "125/125 [==============================] - 96s 771ms/step - loss: 0.1023 - sparse_categorical_accuracy: 0.9658 - val_loss: 0.4488 - val_sparse_categorical_accuracy: 0.8697\n",
      "\n",
      "Epoch 00013: val_loss did not improve from 0.38315\n",
      "Epoch 14/25\n",
      "125/125 [==============================] - 96s 772ms/step - loss: 0.1124 - sparse_categorical_accuracy: 0.9638 - val_loss: 0.4578 - val_sparse_categorical_accuracy: 0.8674\n",
      "\n",
      "Epoch 00014: val_loss did not improve from 0.38315\n",
      "\n",
      "Epoch 00014: ReduceLROnPlateau reducing learning rate to 8.000000525498762e-06.\n",
      "Epoch 15/25\n",
      "125/125 [==============================] - 96s 771ms/step - loss: 0.0906 - sparse_categorical_accuracy: 0.9699 - val_loss: 0.4572 - val_sparse_categorical_accuracy: 0.8670\n",
      "\n",
      "Epoch 00015: val_loss did not improve from 0.38315\n",
      "Epoch 16/25\n",
      "125/125 [==============================] - 97s 773ms/step - loss: 0.0897 - sparse_categorical_accuracy: 0.9705 - val_loss: 0.4598 - val_sparse_categorical_accuracy: 0.8689\n",
      "\n",
      "Epoch 00016: val_loss did not improve from 0.38315\n",
      "Epoch 17/25\n",
      "125/125 [==============================] - 96s 770ms/step - loss: 0.0861 - sparse_categorical_accuracy: 0.9710 - val_loss: 0.4618 - val_sparse_categorical_accuracy: 0.8664\n",
      "\n",
      "Epoch 00017: val_loss did not improve from 0.38315\n",
      "\n",
      "Epoch 00017: ReduceLROnPlateau reducing learning rate to 1.6000001778593287e-06.\n",
      "Epoch 18/25\n",
      "125/125 [==============================] - 97s 776ms/step - loss: 0.0929 - sparse_categorical_accuracy: 0.9692 - val_loss: 0.4636 - val_sparse_categorical_accuracy: 0.8662\n",
      "Restoring model weights from the end of the best epoch.\n",
      "\n",
      "Epoch 00018: val_loss did not improve from 0.38315\n",
      "Epoch 00018: early stopping\n"
     ]
    }
   ],
   "source": [
    "history = model.fit(train_dataset, \n",
    "                    steps_per_epoch=STEPS_PER_EPOCH,\n",
    "                    epochs=25,\n",
    "                    validation_data=valid_dataset,\n",
    "                    validation_steps=VALID_STEPS,\n",
    "                    callbacks = [early_stopping, checkpoint, reduce_lr])"
   ]
  },
  {
   "cell_type": "code",
   "execution_count": 18,
   "metadata": {
    "execution": {
     "iopub.execute_input": "2021-12-26T02:21:58.287840Z",
     "iopub.status.busy": "2021-12-26T02:21:58.287536Z",
     "iopub.status.idle": "2021-12-26T02:21:58.828943Z",
     "shell.execute_reply": "2021-12-26T02:21:58.827927Z",
     "shell.execute_reply.started": "2021-12-26T02:21:58.287801Z"
    }
   },
   "outputs": [
    {
     "data": {
      "image/png": "[encoded data removed]",
      "text/plain": [
       "<Figure size 432x288 with 1 Axes>"
      ]
     },
     "metadata": {
      "needs_background": "light"
     },
     "output_type": "display_data"
    },
    {
     "data": {
      "image/png": "[encoded data removed]",
      "text/plain": [
       "<Figure size 432x288 with 1 Axes>"
      ]
     },
     "metadata": {
      "needs_background": "light"
     },
     "output_type": "display_data"
    }
   ],
   "source": [
    "history_frame = pd.DataFrame(history.history)\n",
    "history_frame.loc[:, ['loss', 'val_loss']].plot()\n",
    "history_frame.loc[:, ['sparse_categorical_accuracy', 'val_sparse_categorical_accuracy']].plot();"
   ]
  },
  {
   "cell_type": "code",
   "execution_count": 19,
   "metadata": {
    "execution": {
     "iopub.execute_input": "2021-12-26T02:21:58.830668Z",
     "iopub.status.busy": "2021-12-26T02:21:58.830337Z",
     "iopub.status.idle": "2021-12-26T02:22:09.116500Z",
     "shell.execute_reply": "2021-12-26T02:22:09.115062Z",
     "shell.execute_reply.started": "2021-12-26T02:21:58.830639Z"
    }
   },
   "outputs": [
    {
     "name": "stdout",
     "output_type": "stream",
     "text": [
      "Downloading data from https://storage.googleapis.com/tensorflow/keras-applications/xception/xception_weights_tf_dim_ordering_tf_kernels_notop.h5\n",
      "83689472/83683744 [==============================] - 0s 0us/step\n",
      "Model: \"sequential_2\"\n",
      "_________________________________________________________________\n",
      "Layer (type)                 Output Shape              Param #   \n",
      "=================================================================\n",
      "xception (Functional)        (None, 16, 16, 2048)      20861480  \n",
      "_________________________________________________________________\n",
      "global_average_pooling2d_2 ( (None, 2048)              0         \n",
      "_________________________________________________________________\n",
      "dense_3 (Dense)              (None, 512)               1049088   \n",
      "_________________________________________________________________\n",
      "dropout_1 (Dropout)          (None, 512)               0         \n",
      "_________________________________________________________________\n",
      "dense_4 (Dense)              (None, 5)                 2565      \n",
      "=================================================================\n",
      "Total params: 21,913,133\n",
      "Trainable params: 21,858,605\n",
      "Non-trainable params: 54,528\n",
      "_________________________________________________________________\n"
     ]
    }
   ],
   "source": [
    "with strategy.scope():\n",
    "    model = tf.keras.Sequential([\n",
    "        tf.keras.applications.Xception(\n",
    "            input_shape=(*IMAGE_SIZE, 3),\n",
    "            weights='imagenet',\n",
    "            include_top=False\n",
    "        ),\n",
    "        layers.GlobalAveragePooling2D(),\n",
    "        layers.Dense(512, activation = 'relu'), \n",
    "        layers.Dropout(0.3),\n",
    "        layers.Dense(5, activation='softmax')\n",
    "    ])\n",
    "    \n",
    "    model.compile(\n",
    "        optimizer='adam',\n",
    "        loss='sparse_categorical_crossentropy',\n",
    "        metrics=['sparse_categorical_accuracy']\n",
    "    )\n",
    "    \n",
    "    model.summary()"
   ]
  },
  {
   "cell_type": "code",
   "execution_count": 20,
   "metadata": {
    "execution": {
     "iopub.execute_input": "2021-12-26T02:22:09.118222Z",
     "iopub.status.busy": "2021-12-26T02:22:09.117997Z",
     "iopub.status.idle": "2021-12-26T02:36:09.836222Z",
     "shell.execute_reply": "2021-12-26T02:36:09.835227Z",
     "shell.execute_reply.started": "2021-12-26T02:22:09.118196Z"
    }
   },
   "outputs": [
    {
     "name": "stdout",
     "output_type": "stream",
     "text": [
      "Epoch 1/25\n",
      "125/125 [==============================] - 108s 398ms/step - loss: 0.8166 - sparse_categorical_accuracy: 0.7188 - val_loss: 2.8388 - val_sparse_categorical_accuracy: 0.6700\n",
      "\n",
      "Epoch 00001: val_loss did not improve from 0.38315\n",
      "Epoch 2/25\n",
      "125/125 [==============================] - 43s 342ms/step - loss: 0.4727 - sparse_categorical_accuracy: 0.8385 - val_loss: 0.7012 - val_sparse_categorical_accuracy: 0.7854\n",
      "\n",
      "Epoch 00002: val_loss did not improve from 0.38315\n",
      "Epoch 3/25\n",
      "125/125 [==============================] - 42s 340ms/step - loss: 0.4241 - sparse_categorical_accuracy: 0.8609 - val_loss: 0.7048 - val_sparse_categorical_accuracy: 0.7578\n",
      "\n",
      "Epoch 00003: val_loss did not improve from 0.38315\n",
      "Epoch 4/25\n",
      "125/125 [==============================] - 43s 342ms/step - loss: 0.3898 - sparse_categorical_accuracy: 0.8677 - val_loss: 0.5882 - val_sparse_categorical_accuracy: 0.8072\n",
      "\n",
      "Epoch 00004: val_loss did not improve from 0.38315\n",
      "Epoch 5/25\n",
      "125/125 [==============================] - 43s 345ms/step - loss: 0.3591 - sparse_categorical_accuracy: 0.8798 - val_loss: 0.8345 - val_sparse_categorical_accuracy: 0.7382\n",
      "\n",
      "Epoch 00005: val_loss did not improve from 0.38315\n",
      "Epoch 6/25\n",
      "125/125 [==============================] - 43s 343ms/step - loss: 0.3221 - sparse_categorical_accuracy: 0.8912 - val_loss: 0.7096 - val_sparse_categorical_accuracy: 0.7692\n",
      "\n",
      "Epoch 00006: val_loss did not improve from 0.38315\n",
      "Epoch 7/25\n",
      "125/125 [==============================] - 43s 343ms/step - loss: 0.2929 - sparse_categorical_accuracy: 0.9000 - val_loss: 1.1203 - val_sparse_categorical_accuracy: 0.5934\n",
      "\n",
      "Epoch 00007: val_loss did not improve from 0.38315\n",
      "\n",
      "Epoch 00007: ReduceLROnPlateau reducing learning rate to 0.00020000000949949026.\n",
      "Epoch 8/25\n",
      "125/125 [==============================] - 43s 345ms/step - loss: 0.2503 - sparse_categorical_accuracy: 0.9155 - val_loss: 0.4377 - val_sparse_categorical_accuracy: 0.8550\n",
      "\n",
      "Epoch 00008: val_loss did not improve from 0.38315\n",
      "Epoch 9/25\n",
      "125/125 [==============================] - 43s 342ms/step - loss: 0.1754 - sparse_categorical_accuracy: 0.9411 - val_loss: 0.5088 - val_sparse_categorical_accuracy: 0.8405\n",
      "\n",
      "Epoch 00009: val_loss did not improve from 0.38315\n",
      "Epoch 10/25\n",
      "125/125 [==============================] - 43s 341ms/step - loss: 0.1580 - sparse_categorical_accuracy: 0.9485 - val_loss: 0.4972 - val_sparse_categorical_accuracy: 0.8485\n",
      "\n",
      "Epoch 00010: val_loss did not improve from 0.38315\n",
      "Epoch 11/25\n",
      "125/125 [==============================] - 43s 342ms/step - loss: 0.1213 - sparse_categorical_accuracy: 0.9593 - val_loss: 0.5255 - val_sparse_categorical_accuracy: 0.8361\n",
      "\n",
      "Epoch 00011: val_loss did not improve from 0.38315\n",
      "\n",
      "Epoch 00011: ReduceLROnPlateau reducing learning rate to 4.0000001899898055e-05.\n",
      "Epoch 12/25\n",
      "125/125 [==============================] - 43s 343ms/step - loss: 0.0956 - sparse_categorical_accuracy: 0.9690 - val_loss: 0.5089 - val_sparse_categorical_accuracy: 0.8514\n",
      "\n",
      "Epoch 00012: val_loss did not improve from 0.38315\n",
      "Epoch 13/25\n",
      "125/125 [==============================] - 43s 343ms/step - loss: 0.0814 - sparse_categorical_accuracy: 0.9748 - val_loss: 0.5326 - val_sparse_categorical_accuracy: 0.8460\n",
      "\n",
      "Epoch 00013: val_loss did not improve from 0.38315\n",
      "Epoch 14/25\n",
      "125/125 [==============================] - 43s 342ms/step - loss: 0.0690 - sparse_categorical_accuracy: 0.9774 - val_loss: 0.5437 - val_sparse_categorical_accuracy: 0.8474\n",
      "\n",
      "Epoch 00014: val_loss did not improve from 0.38315\n",
      "\n",
      "Epoch 00014: ReduceLROnPlateau reducing learning rate to 8.000000525498762e-06.\n",
      "Epoch 15/25\n",
      "125/125 [==============================] - 42s 338ms/step - loss: 0.0616 - sparse_categorical_accuracy: 0.9804 - val_loss: 0.5533 - val_sparse_categorical_accuracy: 0.8474\n",
      "\n",
      "Epoch 00015: val_loss did not improve from 0.38315\n",
      "Epoch 16/25\n",
      "125/125 [==============================] - 43s 343ms/step - loss: 0.0615 - sparse_categorical_accuracy: 0.9815 - val_loss: 0.5660 - val_sparse_categorical_accuracy: 0.8426\n",
      "\n",
      "Epoch 00016: val_loss did not improve from 0.38315\n",
      "Epoch 17/25\n",
      "125/125 [==============================] - 43s 343ms/step - loss: 0.0575 - sparse_categorical_accuracy: 0.9834 - val_loss: 0.5673 - val_sparse_categorical_accuracy: 0.8447\n",
      "\n",
      "Epoch 00017: val_loss did not improve from 0.38315\n",
      "\n",
      "Epoch 00017: ReduceLROnPlateau reducing learning rate to 1.6000001778593287e-06.\n",
      "Epoch 18/25\n",
      "125/125 [==============================] - 42s 337ms/step - loss: 0.0570 - sparse_categorical_accuracy: 0.9823 - val_loss: 0.5688 - val_sparse_categorical_accuracy: 0.8453\n",
      "Restoring model weights from the end of the best epoch.\n",
      "\n",
      "Epoch 00018: val_loss did not improve from 0.38315\n",
      "Epoch 00018: early stopping\n"
     ]
    }
   ],
   "source": [
    "history = model.fit(train_dataset, \n",
    "                    steps_per_epoch=STEPS_PER_EPOCH,\n",
    "                    epochs=25,\n",
    "                    validation_data=valid_dataset,\n",
    "                    validation_steps=VALID_STEPS,\n",
    "                    callbacks = [early_stopping, checkpoint, reduce_lr])"
   ]
  },
  {
   "cell_type": "code",
   "execution_count": 21,
   "metadata": {
    "execution": {
     "iopub.execute_input": "2021-12-26T02:36:09.838515Z",
     "iopub.status.busy": "2021-12-26T02:36:09.837971Z",
     "iopub.status.idle": "2021-12-26T02:36:10.362355Z",
     "shell.execute_reply": "2021-12-26T02:36:10.361497Z",
     "shell.execute_reply.started": "2021-12-26T02:36:09.838466Z"
    }
   },
   "outputs": [
    {
     "data": {
      "image/png": "[encoded data removed]",
      "text/plain": [
       "<Figure size 432x288 with 1 Axes>"
      ]
     },
     "metadata": {
      "needs_background": "light"
     },
     "output_type": "display_data"
    },
    {
     "data": {
      "image/png": "[encoded data removed]",
      "text/plain": [
       "<Figure size 432x288 with 1 Axes>"
      ]
     },
     "metadata": {
      "needs_background": "light"
     },
     "output_type": "display_data"
    }
   ],
   "source": [
    "history_frame = pd.DataFrame(history.history)\n",
    "history_frame.loc[:, ['loss', 'val_loss']].plot()\n",
    "history_frame.loc[:, ['sparse_categorical_accuracy', 'val_sparse_categorical_accuracy']].plot();"
   ]
  },
  {
   "cell_type": "code",
   "execution_count": 22,
   "metadata": {
    "execution": {
     "iopub.execute_input": "2021-12-26T02:36:10.364859Z",
     "iopub.status.busy": "2021-12-26T02:36:10.364040Z",
     "iopub.status.idle": "2021-12-26T02:36:18.253156Z",
     "shell.execute_reply": "2021-12-26T02:36:18.252007Z",
     "shell.execute_reply.started": "2021-12-26T02:36:10.364812Z"
    }
   },
   "outputs": [
    {
     "name": "stdout",
     "output_type": "stream",
     "text": [
      "Model: \"sequential_3\"\n",
      "_________________________________________________________________\n",
      "Layer (type)                 Output Shape              Param #   \n",
      "=================================================================\n",
      "xception (Functional)        (None, 16, 16, 2048)      20861480  \n",
      "_________________________________________________________________\n",
      "global_average_pooling2d_3 ( (None, 2048)              0         \n",
      "_________________________________________________________________\n",
      "dense_5 (Dense)              (None, 5)                 10245     \n",
      "=================================================================\n",
      "Total params: 20,871,725\n",
      "Trainable params: 20,817,197\n",
      "Non-trainable params: 54,528\n",
      "_________________________________________________________________\n"
     ]
    }
   ],
   "source": [
    "with strategy.scope():\n",
    "    model = tf.keras.Sequential([\n",
    "        tf.keras.applications.Xception(\n",
    "            input_shape=(*IMAGE_SIZE, 3),\n",
    "            weights='imagenet',\n",
    "            include_top=False\n",
    "        ),\n",
    "        layers.GlobalAveragePooling2D(),\n",
    "        layers.Dense(5, activation='softmax')\n",
    "    ])\n",
    "    \n",
    "    model.compile(\n",
    "        optimizer='adam',\n",
    "        loss='sparse_categorical_crossentropy',\n",
    "        metrics=['sparse_categorical_accuracy']\n",
    "    )\n",
    "    \n",
    "    model.summary()"
   ]
  },
  {
   "cell_type": "code",
   "execution_count": 23,
   "metadata": {
    "execution": {
     "iopub.execute_input": "2021-12-26T02:36:18.255195Z",
     "iopub.status.busy": "2021-12-26T02:36:18.254629Z",
     "iopub.status.idle": "2021-12-26T02:49:59.516081Z",
     "shell.execute_reply": "2021-12-26T02:49:59.514894Z",
     "shell.execute_reply.started": "2021-12-26T02:36:18.255149Z"
    }
   },
   "outputs": [
    {
     "name": "stdout",
     "output_type": "stream",
     "text": [
      "Epoch 1/25\n",
      "125/125 [==============================] - 96s 390ms/step - loss: 0.7037 - sparse_categorical_accuracy: 0.7410 - val_loss: 0.7312 - val_sparse_categorical_accuracy: 0.7856\n",
      "\n",
      "Epoch 00001: val_loss did not improve from 0.38315\n",
      "Epoch 2/25\n",
      "125/125 [==============================] - 42s 338ms/step - loss: 0.4642 - sparse_categorical_accuracy: 0.8415 - val_loss: 1.2907 - val_sparse_categorical_accuracy: 0.4848\n",
      "\n",
      "Epoch 00002: val_loss did not improve from 0.38315\n",
      "Epoch 3/25\n",
      "125/125 [==============================] - 42s 334ms/step - loss: 0.4019 - sparse_categorical_accuracy: 0.8642 - val_loss: 0.5132 - val_sparse_categorical_accuracy: 0.8384\n",
      "\n",
      "Epoch 00003: val_loss did not improve from 0.38315\n",
      "Epoch 4/25\n",
      "125/125 [==============================] - 42s 340ms/step - loss: 0.3598 - sparse_categorical_accuracy: 0.8792 - val_loss: 0.7223 - val_sparse_categorical_accuracy: 0.7454\n",
      "\n",
      "Epoch 00004: val_loss did not improve from 0.38315\n",
      "Epoch 5/25\n",
      "125/125 [==============================] - 42s 337ms/step - loss: 0.3316 - sparse_categorical_accuracy: 0.8879 - val_loss: 0.7883 - val_sparse_categorical_accuracy: 0.7226\n",
      "\n",
      "Epoch 00005: val_loss did not improve from 0.38315\n",
      "Epoch 6/25\n",
      "125/125 [==============================] - 42s 339ms/step - loss: 0.2976 - sparse_categorical_accuracy: 0.8997 - val_loss: 1.2164 - val_sparse_categorical_accuracy: 0.5497\n",
      "\n",
      "Epoch 00006: val_loss did not improve from 0.38315\n",
      "\n",
      "Epoch 00006: ReduceLROnPlateau reducing learning rate to 0.00020000000949949026.\n",
      "Epoch 7/25\n",
      "125/125 [==============================] - 43s 342ms/step - loss: 0.2396 - sparse_categorical_accuracy: 0.9189 - val_loss: 0.4744 - val_sparse_categorical_accuracy: 0.8445\n",
      "\n",
      "Epoch 00007: val_loss did not improve from 0.38315\n",
      "Epoch 8/25\n",
      "125/125 [==============================] - 42s 339ms/step - loss: 0.1730 - sparse_categorical_accuracy: 0.9433 - val_loss: 0.4486 - val_sparse_categorical_accuracy: 0.8569\n",
      "\n",
      "Epoch 00008: val_loss did not improve from 0.38315\n",
      "Epoch 9/25\n",
      "125/125 [==============================] - 42s 338ms/step - loss: 0.1332 - sparse_categorical_accuracy: 0.9559 - val_loss: 0.4874 - val_sparse_categorical_accuracy: 0.8538\n",
      "\n",
      "Epoch 00009: val_loss did not improve from 0.38315\n",
      "Epoch 10/25\n",
      "125/125 [==============================] - 42s 336ms/step - loss: 0.1040 - sparse_categorical_accuracy: 0.9664 - val_loss: 0.5529 - val_sparse_categorical_accuracy: 0.8323\n",
      "\n",
      "Epoch 00010: val_loss did not improve from 0.38315\n",
      "Epoch 11/25\n",
      "125/125 [==============================] - 42s 338ms/step - loss: 0.0873 - sparse_categorical_accuracy: 0.9730 - val_loss: 0.5425 - val_sparse_categorical_accuracy: 0.8397\n",
      "\n",
      "Epoch 00011: val_loss did not improve from 0.38315\n",
      "\n",
      "Epoch 00011: ReduceLROnPlateau reducing learning rate to 4.0000001899898055e-05.\n",
      "Epoch 12/25\n",
      "125/125 [==============================] - 42s 337ms/step - loss: 0.0657 - sparse_categorical_accuracy: 0.9803 - val_loss: 0.5354 - val_sparse_categorical_accuracy: 0.8525\n",
      "\n",
      "Epoch 00012: val_loss did not improve from 0.38315\n",
      "Epoch 13/25\n",
      "125/125 [==============================] - 42s 339ms/step - loss: 0.0498 - sparse_categorical_accuracy: 0.9844 - val_loss: 0.5617 - val_sparse_categorical_accuracy: 0.8548\n",
      "\n",
      "Epoch 00013: val_loss did not improve from 0.38315\n",
      "Epoch 14/25\n",
      "125/125 [==============================] - 43s 342ms/step - loss: 0.0437 - sparse_categorical_accuracy: 0.9859 - val_loss: 0.5588 - val_sparse_categorical_accuracy: 0.8548\n",
      "\n",
      "Epoch 00014: val_loss did not improve from 0.38315\n",
      "\n",
      "Epoch 00014: ReduceLROnPlateau reducing learning rate to 8.000000525498762e-06.\n",
      "Epoch 15/25\n",
      "125/125 [==============================] - 42s 337ms/step - loss: 0.0339 - sparse_categorical_accuracy: 0.9894 - val_loss: 0.5681 - val_sparse_categorical_accuracy: 0.8558\n",
      "\n",
      "Epoch 00015: val_loss did not improve from 0.38315\n",
      "Epoch 16/25\n",
      "125/125 [==============================] - 42s 340ms/step - loss: 0.0328 - sparse_categorical_accuracy: 0.9918 - val_loss: 0.5700 - val_sparse_categorical_accuracy: 0.8552\n",
      "\n",
      "Epoch 00016: val_loss did not improve from 0.38315\n",
      "Epoch 17/25\n",
      "125/125 [==============================] - 42s 338ms/step - loss: 0.0298 - sparse_categorical_accuracy: 0.9919 - val_loss: 0.5718 - val_sparse_categorical_accuracy: 0.8554\n",
      "\n",
      "Epoch 00017: val_loss did not improve from 0.38315\n",
      "\n",
      "Epoch 00017: ReduceLROnPlateau reducing learning rate to 1.6000001778593287e-06.\n",
      "Epoch 18/25\n",
      "125/125 [==============================] - 42s 337ms/step - loss: 0.0285 - sparse_categorical_accuracy: 0.9909 - val_loss: 0.5748 - val_sparse_categorical_accuracy: 0.8554\n",
      "Restoring model weights from the end of the best epoch.\n",
      "\n",
      "Epoch 00018: val_loss did not improve from 0.38315\n",
      "Epoch 00018: early stopping\n"
     ]
    }
   ],
   "source": [
    "history = model.fit(train_dataset, \n",
    "                    steps_per_epoch=STEPS_PER_EPOCH,\n",
    "                    epochs=25,\n",
    "                    validation_data=valid_dataset,\n",
    "                    validation_steps=VALID_STEPS,\n",
    "                    callbacks = [early_stopping, checkpoint, reduce_lr])"
   ]
  },
  {
   "cell_type": "code",
   "execution_count": 24,
   "metadata": {
    "execution": {
     "iopub.execute_input": "2021-12-26T02:49:59.517831Z",
     "iopub.status.busy": "2021-12-26T02:49:59.517540Z",
     "iopub.status.idle": "2021-12-26T02:50:00.057686Z",
     "shell.execute_reply": "2021-12-26T02:50:00.056649Z",
     "shell.execute_reply.started": "2021-12-26T02:49:59.517798Z"
    }
   },
   "outputs": [
    {
     "data": {
      "image/png": "[encoded data removed]",
      "text/plain": [
       "<Figure size 432x288 with 1 Axes>"
      ]
     },
     "metadata": {
      "needs_background": "light"
     },
     "output_type": "display_data"
    },
    {
     "data": {
      "image/png": "[encoded data removed]",
      "text/plain": [
       "<Figure size 432x288 with 1 Axes>"
      ]
     },
     "metadata": {
      "needs_background": "light"
     },
     "output_type": "display_data"
    }
   ],
   "source": [
    "history_frame = pd.DataFrame(history.history)\n",
    "history_frame.loc[:, ['loss', 'val_loss']].plot()\n",
    "history_frame.loc[:, ['sparse_categorical_accuracy', 'val_sparse_categorical_accuracy']].plot();"
   ]
  },
  {
   "cell_type": "code",
   "execution_count": 25,
   "metadata": {
    "execution": {
     "iopub.execute_input": "2021-12-26T02:50:00.059242Z",
     "iopub.status.busy": "2021-12-26T02:50:00.059016Z",
     "iopub.status.idle": "2021-12-26T02:50:22.304313Z",
     "shell.execute_reply": "2021-12-26T02:50:22.301732Z",
     "shell.execute_reply.started": "2021-12-26T02:50:00.059216Z"
    }
   },
   "outputs": [
    {
     "name": "stdout",
     "output_type": "stream",
     "text": [
      "Downloading data from https://storage.googleapis.com/tensorflow/keras-applications/resnet/resnet50_weights_tf_dim_ordering_tf_kernels_notop.h5\n",
      "94773248/94765736 [==============================] - 1s 0us/step\n",
      "Model: \"sequential_4\"\n",
      "_________________________________________________________________\n",
      "Layer (type)                 Output Shape              Param #   \n",
      "=================================================================\n",
      "resnet50 (Functional)        (None, 16, 16, 2048)      23587712  \n",
      "_________________________________________________________________\n",
      "global_average_pooling2d_4 ( (None, 2048)              0         \n",
      "_________________________________________________________________\n",
      "dense_6 (Dense)              (None, 5)                 10245     \n",
      "=================================================================\n",
      "Total params: 23,597,957\n",
      "Trainable params: 23,544,837\n",
      "Non-trainable params: 53,120\n",
      "_________________________________________________________________\n"
     ]
    }
   ],
   "source": [
    "with strategy.scope():\n",
    "    model = tf.keras.Sequential([\n",
    "        tf.keras.applications.ResNet50(\n",
    "            input_shape=(*IMAGE_SIZE, 3),\n",
    "            weights='imagenet',\n",
    "            include_top=False\n",
    "        ),\n",
    "        layers.GlobalAveragePooling2D(),\n",
    "        layers.Dense(5, activation='softmax')\n",
    "    ])\n",
    "    \n",
    "    model.compile(\n",
    "        optimizer='adam',\n",
    "        loss='sparse_categorical_crossentropy',\n",
    "        metrics=['sparse_categorical_accuracy']\n",
    "    )\n",
    "    \n",
    "    model.summary()"
   ]
  },
  {
   "cell_type": "code",
   "execution_count": 26,
   "metadata": {
    "execution": {
     "iopub.execute_input": "2021-12-26T02:50:22.310090Z",
     "iopub.status.busy": "2021-12-26T02:50:22.308842Z",
     "iopub.status.idle": "2021-12-26T03:05:13.946192Z",
     "shell.execute_reply": "2021-12-26T03:05:13.944592Z",
     "shell.execute_reply.started": "2021-12-26T02:50:22.309994Z"
    }
   },
   "outputs": [
    {
     "name": "stdout",
     "output_type": "stream",
     "text": [
      "Epoch 1/25\n",
      "125/125 [==============================] - 99s 355ms/step - loss: 0.8926 - sparse_categorical_accuracy: 0.6837 - val_loss: 2.2113 - val_sparse_categorical_accuracy: 0.1252\n",
      "\n",
      "Epoch 00001: val_loss did not improve from 0.38315\n",
      "Epoch 2/25\n",
      "125/125 [==============================] - 37s 295ms/step - loss: 0.5374 - sparse_categorical_accuracy: 0.8120 - val_loss: 1.6426 - val_sparse_categorical_accuracy: 0.1248\n",
      "\n",
      "Epoch 00002: val_loss did not improve from 0.38315\n",
      "Epoch 3/25\n",
      "125/125 [==============================] - 36s 291ms/step - loss: 0.5063 - sparse_categorical_accuracy: 0.8317 - val_loss: 2.7112 - val_sparse_categorical_accuracy: 0.1252\n",
      "\n",
      "Epoch 00003: val_loss did not improve from 0.38315\n",
      "Epoch 4/25\n",
      "125/125 [==============================] - 38s 303ms/step - loss: 0.4773 - sparse_categorical_accuracy: 0.8359 - val_loss: 1.9651 - val_sparse_categorical_accuracy: 0.1252\n",
      "\n",
      "Epoch 00004: val_loss did not improve from 0.38315\n",
      "Epoch 5/25\n",
      "125/125 [==============================] - 37s 295ms/step - loss: 0.4337 - sparse_categorical_accuracy: 0.8529 - val_loss: 1.8624 - val_sparse_categorical_accuracy: 0.1233\n",
      "\n",
      "Epoch 00005: val_loss did not improve from 0.38315\n",
      "\n",
      "Epoch 00005: ReduceLROnPlateau reducing learning rate to 0.00020000000949949026.\n",
      "Epoch 6/25\n",
      "125/125 [==============================] - 37s 297ms/step - loss: 0.3760 - sparse_categorical_accuracy: 0.8700 - val_loss: 2.3692 - val_sparse_categorical_accuracy: 0.1425\n",
      "\n",
      "Epoch 00006: val_loss did not improve from 0.38315\n",
      "Epoch 7/25\n",
      "125/125 [==============================] - 37s 296ms/step - loss: 0.3168 - sparse_categorical_accuracy: 0.8921 - val_loss: 1.2772 - val_sparse_categorical_accuracy: 0.4836\n",
      "\n",
      "Epoch 00007: val_loss did not improve from 0.38315\n",
      "Epoch 8/25\n",
      "125/125 [==============================] - 36s 292ms/step - loss: 0.3010 - sparse_categorical_accuracy: 0.8942 - val_loss: 0.6709 - val_sparse_categorical_accuracy: 0.7569\n",
      "\n",
      "Epoch 00008: val_loss did not improve from 0.38315\n",
      "Epoch 9/25\n",
      "125/125 [==============================] - 37s 295ms/step - loss: 0.2830 - sparse_categorical_accuracy: 0.9050 - val_loss: 0.6387 - val_sparse_categorical_accuracy: 0.7700\n",
      "\n",
      "Epoch 00009: val_loss did not improve from 0.38315\n",
      "Epoch 10/25\n",
      "125/125 [==============================] - 37s 298ms/step - loss: 0.2657 - sparse_categorical_accuracy: 0.9110 - val_loss: 0.5794 - val_sparse_categorical_accuracy: 0.8020\n",
      "\n",
      "Epoch 00010: val_loss did not improve from 0.38315\n",
      "Epoch 11/25\n",
      "125/125 [==============================] - 37s 295ms/step - loss: 0.2374 - sparse_categorical_accuracy: 0.9170 - val_loss: 0.5857 - val_sparse_categorical_accuracy: 0.7957\n",
      "\n",
      "Epoch 00011: val_loss did not improve from 0.38315\n",
      "Epoch 12/25\n",
      "125/125 [==============================] - 37s 299ms/step - loss: 0.2258 - sparse_categorical_accuracy: 0.9240 - val_loss: 0.5366 - val_sparse_categorical_accuracy: 0.8192\n",
      "\n",
      "Epoch 00012: val_loss did not improve from 0.38315\n",
      "Epoch 13/25\n",
      "125/125 [==============================] - 37s 296ms/step - loss: 0.2114 - sparse_categorical_accuracy: 0.9292 - val_loss: 0.5962 - val_sparse_categorical_accuracy: 0.7934\n",
      "\n",
      "Epoch 00013: val_loss did not improve from 0.38315\n",
      "Epoch 14/25\n",
      "125/125 [==============================] - 37s 296ms/step - loss: 0.1871 - sparse_categorical_accuracy: 0.9346 - val_loss: 0.6179 - val_sparse_categorical_accuracy: 0.7887\n",
      "\n",
      "Epoch 00014: val_loss did not improve from 0.38315\n",
      "Epoch 15/25\n",
      "125/125 [==============================] - 37s 298ms/step - loss: 0.1623 - sparse_categorical_accuracy: 0.9452 - val_loss: 0.6114 - val_sparse_categorical_accuracy: 0.7986\n",
      "\n",
      "Epoch 00015: val_loss did not improve from 0.38315\n",
      "\n",
      "Epoch 00015: ReduceLROnPlateau reducing learning rate to 4.0000001899898055e-05.\n",
      "Epoch 16/25\n",
      "125/125 [==============================] - 37s 299ms/step - loss: 0.1298 - sparse_categorical_accuracy: 0.9567 - val_loss: 0.5830 - val_sparse_categorical_accuracy: 0.8194\n",
      "\n",
      "Epoch 00016: val_loss did not improve from 0.38315\n",
      "Epoch 17/25\n",
      "125/125 [==============================] - 37s 297ms/step - loss: 0.1009 - sparse_categorical_accuracy: 0.9666 - val_loss: 0.5554 - val_sparse_categorical_accuracy: 0.8293\n",
      "\n",
      "Epoch 00017: val_loss did not improve from 0.38315\n",
      "Epoch 18/25\n",
      "125/125 [==============================] - 37s 298ms/step - loss: 0.0856 - sparse_categorical_accuracy: 0.9758 - val_loss: 0.5862 - val_sparse_categorical_accuracy: 0.8295\n",
      "\n",
      "Epoch 00018: val_loss did not improve from 0.38315\n",
      "\n",
      "Epoch 00018: ReduceLROnPlateau reducing learning rate to 8.000000525498762e-06.\n",
      "Epoch 19/25\n",
      "125/125 [==============================] - 37s 299ms/step - loss: 0.0812 - sparse_categorical_accuracy: 0.9742 - val_loss: 0.5776 - val_sparse_categorical_accuracy: 0.8333\n",
      "\n",
      "Epoch 00019: val_loss did not improve from 0.38315\n",
      "Epoch 20/25\n",
      "125/125 [==============================] - 38s 301ms/step - loss: 0.0722 - sparse_categorical_accuracy: 0.9787 - val_loss: 0.5811 - val_sparse_categorical_accuracy: 0.8356\n",
      "\n",
      "Epoch 00020: val_loss did not improve from 0.38315\n",
      "Epoch 21/25\n",
      "125/125 [==============================] - 37s 299ms/step - loss: 0.0671 - sparse_categorical_accuracy: 0.9811 - val_loss: 0.5826 - val_sparse_categorical_accuracy: 0.8365\n",
      "\n",
      "Epoch 00021: val_loss did not improve from 0.38315\n",
      "\n",
      "Epoch 00021: ReduceLROnPlateau reducing learning rate to 1.6000001778593287e-06.\n",
      "Epoch 22/25\n",
      "125/125 [==============================] - 38s 301ms/step - loss: 0.0619 - sparse_categorical_accuracy: 0.9820 - val_loss: 0.5858 - val_sparse_categorical_accuracy: 0.8386\n",
      "Restoring model weights from the end of the best epoch.\n",
      "\n",
      "Epoch 00022: val_loss did not improve from 0.38315\n",
      "Epoch 00022: early stopping\n"
     ]
    }
   ],
   "source": [
    "history = model.fit(train_dataset, \n",
    "                    steps_per_epoch=STEPS_PER_EPOCH,\n",
    "                    epochs=25,\n",
    "                    validation_data=valid_dataset,\n",
    "                    validation_steps=VALID_STEPS,\n",
    "                    callbacks = [early_stopping, checkpoint, reduce_lr])"
   ]
  },
  {
   "cell_type": "code",
   "execution_count": 27,
   "metadata": {
    "execution": {
     "iopub.execute_input": "2021-12-26T03:05:13.948846Z",
     "iopub.status.busy": "2021-12-26T03:05:13.948408Z",
     "iopub.status.idle": "2021-12-26T03:05:14.412128Z",
     "shell.execute_reply": "2021-12-26T03:05:14.410997Z",
     "shell.execute_reply.started": "2021-12-26T03:05:13.948792Z"
    }
   },
   "outputs": [
    {
     "data": {
      "image/png": "[encoded data removed]",
      "text/plain": [
       "<Figure size 432x288 with 1 Axes>"
      ]
     },
     "metadata": {
      "needs_background": "light"
     },
     "output_type": "display_data"
    },
    {
     "data": {
      "image/png": "[encoded data removed]",
      "text/plain": [
       "<Figure size 432x288 with 1 Axes>"
      ]
     },
     "metadata": {
      "needs_background": "light"
     },
     "output_type": "display_data"
    }
   ],
   "source": [
    "history_frame = pd.DataFrame(history.history)\n",
    "history_frame.loc[:, ['loss', 'val_loss']].plot()\n",
    "history_frame.loc[:, ['sparse_categorical_accuracy', 'val_sparse_categorical_accuracy']].plot();"
   ]
  },
  {
   "cell_type": "code",
   "execution_count": 28,
   "metadata": {
    "execution": {
     "iopub.execute_input": "2021-12-26T03:05:14.418291Z",
     "iopub.status.busy": "2021-12-26T03:05:14.417996Z",
     "iopub.status.idle": "2021-12-26T03:05:44.365594Z",
     "shell.execute_reply": "2021-12-26T03:05:44.363992Z",
     "shell.execute_reply.started": "2021-12-26T03:05:14.418263Z"
    }
   },
   "outputs": [
    {
     "name": "stdout",
     "output_type": "stream",
     "text": [
      "Downloading data from https://github.com/Callidior/keras-applications/releases/download/efficientnet/efficientnet-b4_weights_tf_dim_ordering_tf_kernels_autoaugment_notop.h5\n",
      "71892992/71892840 [==============================] - 1s 0us/step\n",
      "Model: \"sequential_5\"\n",
      "_________________________________________________________________\n",
      "Layer (type)                 Output Shape              Param #   \n",
      "=================================================================\n",
      "efficientnet-b4 (Functional) (None, 16, 16, 1792)      17673816  \n",
      "_________________________________________________________________\n",
      "global_average_pooling2d_5 ( (None, 1792)              0         \n",
      "_________________________________________________________________\n",
      "dense_7 (Dense)              (None, 5)                 8965      \n",
      "=================================================================\n",
      "Total params: 17,682,781\n",
      "Trainable params: 17,557,581\n",
      "Non-trainable params: 125,200\n",
      "_________________________________________________________________\n"
     ]
    }
   ],
   "source": [
    "with strategy.scope():\n",
    "    model = tf.keras.Sequential([\n",
    "        efn.EfficientNetB4(\n",
    "            input_shape=(*IMAGE_SIZE, 3),\n",
    "            weights='imagenet',\n",
    "            include_top=False\n",
    "        ),\n",
    "        layers.GlobalAveragePooling2D(),\n",
    "        layers.Dense(5, activation='softmax')\n",
    "    ])\n",
    "    \n",
    "    model.compile(\n",
    "        optimizer='adam',\n",
    "        loss='sparse_categorical_crossentropy',\n",
    "        metrics=['sparse_categorical_accuracy']\n",
    "    )\n",
    "    \n",
    "    model.summary()"
   ]
  },
  {
   "cell_type": "code",
   "execution_count": 29,
   "metadata": {
    "execution": {
     "iopub.execute_input": "2021-12-26T03:05:44.368628Z",
     "iopub.status.busy": "2021-12-26T03:05:44.367779Z",
     "iopub.status.idle": "2021-12-26T03:25:39.817457Z",
     "shell.execute_reply": "2021-12-26T03:25:39.816360Z",
     "shell.execute_reply.started": "2021-12-26T03:05:44.368579Z"
    }
   },
   "outputs": [
    {
     "name": "stdout",
     "output_type": "stream",
     "text": [
      "Epoch 1/25\n",
      "125/125 [==============================] - 184s 548ms/step - loss: 0.6919 - sparse_categorical_accuracy: 0.7454 - val_loss: 0.8453 - val_sparse_categorical_accuracy: 0.7119\n",
      "\n",
      "Epoch 00001: val_loss did not improve from 0.38315\n",
      "Epoch 2/25\n",
      "125/125 [==============================] - 55s 439ms/step - loss: 0.4276 - sparse_categorical_accuracy: 0.8524 - val_loss: 0.4671 - val_sparse_categorical_accuracy: 0.8413\n",
      "\n",
      "Epoch 00002: val_loss did not improve from 0.38315\n",
      "Epoch 3/25\n",
      "125/125 [==============================] - 55s 440ms/step - loss: 0.3554 - sparse_categorical_accuracy: 0.8759 - val_loss: 0.4620 - val_sparse_categorical_accuracy: 0.8510\n",
      "\n",
      "Epoch 00003: val_loss did not improve from 0.38315\n",
      "Epoch 4/25\n",
      "125/125 [==============================] - 55s 440ms/step - loss: 0.3348 - sparse_categorical_accuracy: 0.8845 - val_loss: 0.4981 - val_sparse_categorical_accuracy: 0.8356\n",
      "\n",
      "Epoch 00004: val_loss did not improve from 0.38315\n",
      "Epoch 5/25\n",
      "125/125 [==============================] - 55s 444ms/step - loss: 0.3026 - sparse_categorical_accuracy: 0.8961 - val_loss: 0.4594 - val_sparse_categorical_accuracy: 0.8525\n",
      "\n",
      "Epoch 00005: val_loss did not improve from 0.38315\n",
      "Epoch 6/25\n",
      "125/125 [==============================] - 56s 445ms/step - loss: 0.2750 - sparse_categorical_accuracy: 0.9059 - val_loss: 0.4656 - val_sparse_categorical_accuracy: 0.8487\n",
      "\n",
      "Epoch 00006: val_loss did not improve from 0.38315\n",
      "Epoch 7/25\n",
      "125/125 [==============================] - 55s 444ms/step - loss: 0.2483 - sparse_categorical_accuracy: 0.9130 - val_loss: 0.5723 - val_sparse_categorical_accuracy: 0.8207\n",
      "\n",
      "Epoch 00007: val_loss did not improve from 0.38315\n",
      "Epoch 8/25\n",
      "125/125 [==============================] - 55s 441ms/step - loss: 0.2261 - sparse_categorical_accuracy: 0.9202 - val_loss: 0.5651 - val_sparse_categorical_accuracy: 0.8199\n",
      "\n",
      "Epoch 00008: val_loss did not improve from 0.38315\n",
      "\n",
      "Epoch 00008: ReduceLROnPlateau reducing learning rate to 0.00020000000949949026.\n",
      "Epoch 9/25\n",
      "125/125 [==============================] - 55s 444ms/step - loss: 0.1692 - sparse_categorical_accuracy: 0.9407 - val_loss: 0.4346 - val_sparse_categorical_accuracy: 0.8676\n",
      "\n",
      "Epoch 00009: val_loss did not improve from 0.38315\n",
      "Epoch 10/25\n",
      "125/125 [==============================] - 55s 441ms/step - loss: 0.1112 - sparse_categorical_accuracy: 0.9604 - val_loss: 0.4500 - val_sparse_categorical_accuracy: 0.8624\n",
      "\n",
      "Epoch 00010: val_loss did not improve from 0.38315\n",
      "Epoch 11/25\n",
      "125/125 [==============================] - 55s 444ms/step - loss: 0.0949 - sparse_categorical_accuracy: 0.9695 - val_loss: 0.4846 - val_sparse_categorical_accuracy: 0.8697\n",
      "\n",
      "Epoch 00011: val_loss did not improve from 0.38315\n",
      "Epoch 12/25\n",
      "125/125 [==============================] - 56s 445ms/step - loss: 0.0684 - sparse_categorical_accuracy: 0.9775 - val_loss: 0.4889 - val_sparse_categorical_accuracy: 0.8620\n",
      "\n",
      "Epoch 00012: val_loss did not improve from 0.38315\n",
      "\n",
      "Epoch 00012: ReduceLROnPlateau reducing learning rate to 4.0000001899898055e-05.\n",
      "Epoch 13/25\n",
      "125/125 [==============================] - 55s 443ms/step - loss: 0.0599 - sparse_categorical_accuracy: 0.9802 - val_loss: 0.4979 - val_sparse_categorical_accuracy: 0.8666\n",
      "\n",
      "Epoch 00013: val_loss did not improve from 0.38315\n",
      "Epoch 14/25\n",
      "125/125 [==============================] - 55s 443ms/step - loss: 0.0515 - sparse_categorical_accuracy: 0.9827 - val_loss: 0.5065 - val_sparse_categorical_accuracy: 0.8720\n",
      "\n",
      "Epoch 00014: val_loss did not improve from 0.38315\n",
      "Epoch 15/25\n",
      "125/125 [==============================] - 55s 440ms/step - loss: 0.0431 - sparse_categorical_accuracy: 0.9864 - val_loss: 0.5173 - val_sparse_categorical_accuracy: 0.8687\n",
      "\n",
      "Epoch 00015: val_loss did not improve from 0.38315\n",
      "\n",
      "Epoch 00015: ReduceLROnPlateau reducing learning rate to 8.000000525498762e-06.\n",
      "Epoch 16/25\n",
      "125/125 [==============================] - 56s 445ms/step - loss: 0.0428 - sparse_categorical_accuracy: 0.9851 - val_loss: 0.5201 - val_sparse_categorical_accuracy: 0.8691\n",
      "\n",
      "Epoch 00016: val_loss did not improve from 0.38315\n",
      "Epoch 17/25\n",
      "125/125 [==============================] - 55s 443ms/step - loss: 0.0411 - sparse_categorical_accuracy: 0.9863 - val_loss: 0.5227 - val_sparse_categorical_accuracy: 0.8693\n",
      "\n",
      "Epoch 00017: val_loss did not improve from 0.38315\n",
      "Epoch 18/25\n",
      "125/125 [==============================] - 55s 440ms/step - loss: 0.0402 - sparse_categorical_accuracy: 0.9873 - val_loss: 0.5259 - val_sparse_categorical_accuracy: 0.8699\n",
      "\n",
      "Epoch 00018: val_loss did not improve from 0.38315\n",
      "\n",
      "Epoch 00018: ReduceLROnPlateau reducing learning rate to 1.6000001778593287e-06.\n",
      "Epoch 19/25\n",
      "125/125 [==============================] - 55s 440ms/step - loss: 0.0453 - sparse_categorical_accuracy: 0.9856 - val_loss: 0.5259 - val_sparse_categorical_accuracy: 0.8697\n",
      "Restoring model weights from the end of the best epoch.\n",
      "\n",
      "Epoch 00019: val_loss did not improve from 0.38315\n",
      "Epoch 00019: early stopping\n"
     ]
    }
   ],
   "source": [
    "history = model.fit(train_dataset, \n",
    "                    steps_per_epoch=STEPS_PER_EPOCH,\n",
    "                    epochs=25,\n",
    "                    validation_data=valid_dataset,\n",
    "                    validation_steps=VALID_STEPS,\n",
    "                    callbacks = [early_stopping, checkpoint, reduce_lr])"
   ]
  },
  {
   "cell_type": "code",
   "execution_count": 30,
   "metadata": {
    "execution": {
     "iopub.execute_input": "2021-12-26T03:25:39.820037Z",
     "iopub.status.busy": "2021-12-26T03:25:39.819789Z",
     "iopub.status.idle": "2021-12-26T03:25:40.284802Z",
     "shell.execute_reply": "2021-12-26T03:25:40.283809Z",
     "shell.execute_reply.started": "2021-12-26T03:25:39.820009Z"
    }
   },
   "outputs": [
    {
     "data": {
      "image/png": "[encoded data removed]",
      "text/plain": [
       "<Figure size 432x288 with 1 Axes>"
      ]
     },
     "metadata": {
      "needs_background": "light"
     },
     "output_type": "display_data"
    },
    {
     "data": {
      "image/png": "[encoded data removed]",
      "text/plain": [
       "<Figure size 432x288 with 1 Axes>"
      ]
     },
     "metadata": {
      "needs_background": "light"
     },
     "output_type": "display_data"
    }
   ],
   "source": [
    "history_frame = pd.DataFrame(history.history)\n",
    "history_frame.loc[:, ['loss', 'val_loss']].plot()\n",
    "history_frame.loc[:, ['sparse_categorical_accuracy', 'val_sparse_categorical_accuracy']].plot();"
   ]
  },
  {
   "cell_type": "code",
   "execution_count": 31,
   "metadata": {
    "execution": {
     "iopub.execute_input": "2021-12-26T03:25:40.287145Z",
     "iopub.status.busy": "2021-12-26T03:25:40.286439Z",
     "iopub.status.idle": "2021-12-26T03:25:42.788223Z",
     "shell.execute_reply": "2021-12-26T03:25:42.787327Z",
     "shell.execute_reply.started": "2021-12-26T03:25:40.287098Z"
    }
   },
   "outputs": [
    {
     "name": "stdout",
     "output_type": "stream",
     "text": [
      "Downloading data from https://storage.googleapis.com/tensorflow/keras-applications/vgg16/vgg16_weights_tf_dim_ordering_tf_kernels_notop.h5\n",
      "58892288/58889256 [==============================] - 0s 0us/step\n",
      "Model: \"sequential_6\"\n",
      "_________________________________________________________________\n",
      "Layer (type)                 Output Shape              Param #   \n",
      "=================================================================\n",
      "vgg16 (Functional)           (None, 16, 16, 512)       14714688  \n",
      "_________________________________________________________________\n",
      "global_average_pooling2d_6 ( (None, 512)               0         \n",
      "_________________________________________________________________\n",
      "dense_8 (Dense)              (None, 5)                 2565      \n",
      "=================================================================\n",
      "Total params: 14,717,253\n",
      "Trainable params: 14,717,253\n",
      "Non-trainable params: 0\n",
      "_________________________________________________________________\n"
     ]
    }
   ],
   "source": [
    "with strategy.scope():\n",
    "    model = tf.keras.Sequential([\n",
    "        tf.keras.applications.VGG16(\n",
    "            input_shape=(*IMAGE_SIZE, 3),\n",
    "            weights='imagenet',\n",
    "            include_top=False\n",
    "        ),\n",
    "        layers.GlobalAveragePooling2D(),\n",
    "        layers.Dense(5, activation='softmax')\n",
    "    ])\n",
    "    \n",
    "    model.compile(\n",
    "        optimizer='adam',\n",
    "        loss='sparse_categorical_crossentropy',\n",
    "        metrics=['sparse_categorical_accuracy']\n",
    "    )\n",
    "    \n",
    "    model.summary()"
   ]
  },
  {
   "cell_type": "code",
   "execution_count": 32,
   "metadata": {
    "execution": {
     "iopub.execute_input": "2021-12-26T03:25:42.789601Z",
     "iopub.status.busy": "2021-12-26T03:25:42.789378Z",
     "iopub.status.idle": "2021-12-26T03:50:17.301411Z",
     "shell.execute_reply": "2021-12-26T03:50:17.300418Z",
     "shell.execute_reply.started": "2021-12-26T03:25:42.789575Z"
    }
   },
   "outputs": [
    {
     "name": "stdout",
     "output_type": "stream",
     "text": [
      "Epoch 1/50\n",
      "125/125 [==============================] - 76s 452ms/step - loss: 67.1149 - sparse_categorical_accuracy: 0.5407 - val_loss: 1.1675 - val_sparse_categorical_accuracy: 0.6084\n",
      "\n",
      "Epoch 00001: val_loss did not improve from 0.38315\n",
      "Epoch 2/50\n",
      "125/125 [==============================] - 51s 409ms/step - loss: 1.1529 - sparse_categorical_accuracy: 0.6167 - val_loss: 1.2725 - val_sparse_categorical_accuracy: 0.5970\n",
      "\n",
      "Epoch 00002: val_loss did not improve from 0.38315\n",
      "Epoch 3/50\n",
      "125/125 [==============================] - 52s 412ms/step - loss: 1.1135 - sparse_categorical_accuracy: 0.6195 - val_loss: 1.1103 - val_sparse_categorical_accuracy: 0.6134\n",
      "\n",
      "Epoch 00003: val_loss did not improve from 0.38315\n",
      "Epoch 4/50\n",
      "125/125 [==============================] - 51s 412ms/step - loss: 1.1223 - sparse_categorical_accuracy: 0.6105 - val_loss: 1.1916 - val_sparse_categorical_accuracy: 0.6119\n",
      "\n",
      "Epoch 00004: val_loss did not improve from 0.38315\n",
      "Epoch 5/50\n",
      "125/125 [==============================] - 52s 413ms/step - loss: 1.0628 - sparse_categorical_accuracy: 0.6232 - val_loss: 1.0943 - val_sparse_categorical_accuracy: 0.6204\n",
      "\n",
      "Epoch 00005: val_loss did not improve from 0.38315\n",
      "Epoch 6/50\n",
      "125/125 [==============================] - 51s 411ms/step - loss: 1.0492 - sparse_categorical_accuracy: 0.6224 - val_loss: 1.2746 - val_sparse_categorical_accuracy: 0.5360\n",
      "\n",
      "Epoch 00006: val_loss did not improve from 0.38315\n",
      "Epoch 7/50\n",
      "125/125 [==============================] - 52s 413ms/step - loss: 0.9725 - sparse_categorical_accuracy: 0.6430 - val_loss: 1.1871 - val_sparse_categorical_accuracy: 0.5697\n",
      "\n",
      "Epoch 00007: val_loss did not improve from 0.38315\n",
      "Epoch 8/50\n",
      "125/125 [==============================] - 52s 416ms/step - loss: 0.9160 - sparse_categorical_accuracy: 0.6575 - val_loss: 1.4730 - val_sparse_categorical_accuracy: 0.4415\n",
      "\n",
      "Epoch 00008: val_loss did not improve from 0.38315\n",
      "\n",
      "Epoch 00008: ReduceLROnPlateau reducing learning rate to 0.00020000000949949026.\n",
      "Epoch 9/50\n",
      "125/125 [==============================] - 51s 412ms/step - loss: 0.9002 - sparse_categorical_accuracy: 0.6584 - val_loss: 0.9684 - val_sparse_categorical_accuracy: 0.6402\n",
      "\n",
      "Epoch 00009: val_loss did not improve from 0.38315\n",
      "Epoch 10/50\n",
      "125/125 [==============================] - 52s 417ms/step - loss: 0.8609 - sparse_categorical_accuracy: 0.6670 - val_loss: 0.9865 - val_sparse_categorical_accuracy: 0.6355\n",
      "\n",
      "Epoch 00010: val_loss did not improve from 0.38315\n",
      "Epoch 11/50\n",
      "125/125 [==============================] - 51s 412ms/step - loss: 0.8246 - sparse_categorical_accuracy: 0.6837 - val_loss: 0.9157 - val_sparse_categorical_accuracy: 0.6553\n",
      "\n",
      "Epoch 00011: val_loss did not improve from 0.38315\n",
      "Epoch 12/50\n",
      "125/125 [==============================] - 52s 419ms/step - loss: 0.8108 - sparse_categorical_accuracy: 0.6924 - val_loss: 0.9660 - val_sparse_categorical_accuracy: 0.6368\n",
      "\n",
      "Epoch 00012: val_loss did not improve from 0.38315\n",
      "Epoch 13/50\n",
      "125/125 [==============================] - 51s 411ms/step - loss: 0.7727 - sparse_categorical_accuracy: 0.7069 - val_loss: 0.8438 - val_sparse_categorical_accuracy: 0.6726\n",
      "\n",
      "Epoch 00013: val_loss did not improve from 0.38315\n",
      "Epoch 14/50\n",
      "125/125 [==============================] - 51s 410ms/step - loss: 0.7381 - sparse_categorical_accuracy: 0.7240 - val_loss: 0.7536 - val_sparse_categorical_accuracy: 0.7073\n",
      "\n",
      "Epoch 00014: val_loss did not improve from 0.38315\n",
      "Epoch 15/50\n",
      "125/125 [==============================] - 52s 412ms/step - loss: 0.7158 - sparse_categorical_accuracy: 0.7385 - val_loss: 0.8241 - val_sparse_categorical_accuracy: 0.6989\n",
      "\n",
      "Epoch 00015: val_loss did not improve from 0.38315\n",
      "Epoch 16/50\n",
      "125/125 [==============================] - 52s 414ms/step - loss: 0.6843 - sparse_categorical_accuracy: 0.7560 - val_loss: 0.7706 - val_sparse_categorical_accuracy: 0.7134\n",
      "\n",
      "Epoch 00016: val_loss did not improve from 0.38315\n",
      "Epoch 17/50\n",
      "125/125 [==============================] - 52s 415ms/step - loss: 0.6752 - sparse_categorical_accuracy: 0.7559 - val_loss: 0.7811 - val_sparse_categorical_accuracy: 0.7134\n",
      "\n",
      "Epoch 00017: val_loss did not improve from 0.38315\n",
      "\n",
      "Epoch 00017: ReduceLROnPlateau reducing learning rate to 4.0000001899898055e-05.\n",
      "Epoch 18/50\n",
      "125/125 [==============================] - 51s 412ms/step - loss: 0.6367 - sparse_categorical_accuracy: 0.7690 - val_loss: 0.6731 - val_sparse_categorical_accuracy: 0.7540\n",
      "\n",
      "Epoch 00018: val_loss did not improve from 0.38315\n",
      "Epoch 19/50\n",
      "125/125 [==============================] - 54s 430ms/step - loss: 0.6184 - sparse_categorical_accuracy: 0.7824 - val_loss: 0.7320 - val_sparse_categorical_accuracy: 0.7308\n",
      "\n",
      "Epoch 00019: val_loss did not improve from 0.38315\n",
      "Epoch 20/50\n",
      "125/125 [==============================] - 51s 410ms/step - loss: 0.5914 - sparse_categorical_accuracy: 0.7928 - val_loss: 0.7084 - val_sparse_categorical_accuracy: 0.7365\n",
      "\n",
      "Epoch 00020: val_loss did not improve from 0.38315\n",
      "Epoch 21/50\n",
      "125/125 [==============================] - 52s 412ms/step - loss: 0.5964 - sparse_categorical_accuracy: 0.7882 - val_loss: 0.7515 - val_sparse_categorical_accuracy: 0.7241\n",
      "\n",
      "Epoch 00021: val_loss did not improve from 0.38315\n",
      "\n",
      "Epoch 00021: ReduceLROnPlateau reducing learning rate to 8.000000525498762e-06.\n",
      "Epoch 22/50\n",
      "125/125 [==============================] - 51s 410ms/step - loss: 0.5963 - sparse_categorical_accuracy: 0.7928 - val_loss: 0.6991 - val_sparse_categorical_accuracy: 0.7426\n",
      "\n",
      "Epoch 00022: val_loss did not improve from 0.38315\n",
      "Epoch 23/50\n",
      "125/125 [==============================] - 52s 417ms/step - loss: 0.5829 - sparse_categorical_accuracy: 0.7959 - val_loss: 0.6975 - val_sparse_categorical_accuracy: 0.7450\n",
      "\n",
      "Epoch 00023: val_loss did not improve from 0.38315\n",
      "Epoch 24/50\n",
      "125/125 [==============================] - 51s 411ms/step - loss: 0.5852 - sparse_categorical_accuracy: 0.7942 - val_loss: 0.6834 - val_sparse_categorical_accuracy: 0.7489\n",
      "\n",
      "Epoch 00024: val_loss did not improve from 0.38315\n",
      "\n",
      "Epoch 00024: ReduceLROnPlateau reducing learning rate to 1.6000001778593287e-06.\n",
      "Epoch 25/50\n",
      "125/125 [==============================] - 52s 415ms/step - loss: 0.5777 - sparse_categorical_accuracy: 0.7979 - val_loss: 0.6916 - val_sparse_categorical_accuracy: 0.7456\n",
      "\n",
      "Epoch 00025: val_loss did not improve from 0.38315\n",
      "Epoch 26/50\n",
      "125/125 [==============================] - 52s 412ms/step - loss: 0.5767 - sparse_categorical_accuracy: 0.7978 - val_loss: 0.6857 - val_sparse_categorical_accuracy: 0.7464\n",
      "\n",
      "Epoch 00026: val_loss did not improve from 0.38315\n",
      "Epoch 27/50\n",
      "125/125 [==============================] - 52s 416ms/step - loss: 0.5841 - sparse_categorical_accuracy: 0.7959 - val_loss: 0.6871 - val_sparse_categorical_accuracy: 0.7468\n",
      "\n",
      "Epoch 00027: val_loss did not improve from 0.38315\n",
      "\n",
      "Epoch 00027: ReduceLROnPlateau reducing learning rate to 3.200000264769187e-07.\n",
      "Epoch 28/50\n",
      "125/125 [==============================] - 52s 414ms/step - loss: 0.5714 - sparse_categorical_accuracy: 0.7979 - val_loss: 0.6878 - val_sparse_categorical_accuracy: 0.7464\n",
      "Restoring model weights from the end of the best epoch.\n",
      "\n",
      "Epoch 00028: val_loss did not improve from 0.38315\n",
      "Epoch 00028: early stopping\n"
     ]
    }
   ],
   "source": [
    "history = model.fit(train_dataset, \n",
    "                    steps_per_epoch=STEPS_PER_EPOCH,\n",
    "                    epochs=50,\n",
    "                    validation_data=valid_dataset,\n",
    "                    validation_steps=VALID_STEPS,\n",
    "                    callbacks = [early_stopping, checkpoint, reduce_lr])"
   ]
  },
  {
   "cell_type": "code",
   "execution_count": 33,
   "metadata": {
    "execution": {
     "iopub.execute_input": "2021-12-26T03:50:17.303416Z",
     "iopub.status.busy": "2021-12-26T03:50:17.303077Z",
     "iopub.status.idle": "2021-12-26T03:50:17.739579Z",
     "shell.execute_reply": "2021-12-26T03:50:17.738655Z",
     "shell.execute_reply.started": "2021-12-26T03:50:17.303374Z"
    }
   },
   "outputs": [
    {
     "data": {
      "image/png": "[encoded data removed]",
      "text/plain": [
       "<Figure size 432x288 with 1 Axes>"
      ]
     },
     "metadata": {
      "needs_background": "light"
     },
     "output_type": "display_data"
    },
    {
     "data": {
      "image/png": "[encoded data removed]",
      "text/plain": [
       "<Figure size 432x288 with 1 Axes>"
      ]
     },
     "metadata": {
      "needs_background": "light"
     },
     "output_type": "display_data"
    }
   ],
   "source": [
    "history_frame = pd.DataFrame(history.history)\n",
    "history_frame.loc[:, ['loss', 'val_loss']].plot()\n",
    "history_frame.loc[:, ['sparse_categorical_accuracy', 'val_sparse_categorical_accuracy']].plot();"
   ]
  },
  {
   "cell_type": "code",
   "execution_count": 34,
   "metadata": {
    "execution": {
     "iopub.execute_input": "2021-12-26T03:50:17.741072Z",
     "iopub.status.busy": "2021-12-26T03:50:17.740828Z",
     "iopub.status.idle": "2021-12-26T03:50:20.392768Z",
     "shell.execute_reply": "2021-12-26T03:50:20.391789Z",
     "shell.execute_reply.started": "2021-12-26T03:50:17.741044Z"
    }
   },
   "outputs": [
    {
     "name": "stdout",
     "output_type": "stream",
     "text": [
      "Downloading data from https://storage.googleapis.com/tensorflow/keras-applications/vgg19/vgg19_weights_tf_dim_ordering_tf_kernels_notop.h5\n",
      "80142336/80134624 [==============================] - 1s 0us/step\n",
      "Model: \"sequential_7\"\n",
      "_________________________________________________________________\n",
      "Layer (type)                 Output Shape              Param #   \n",
      "=================================================================\n",
      "vgg19 (Functional)           (None, 16, 16, 512)       20024384  \n",
      "_________________________________________________________________\n",
      "global_average_pooling2d_7 ( (None, 512)               0         \n",
      "_________________________________________________________________\n",
      "dense_9 (Dense)              (None, 5)                 2565      \n",
      "=================================================================\n",
      "Total params: 20,026,949\n",
      "Trainable params: 20,026,949\n",
      "Non-trainable params: 0\n",
      "_________________________________________________________________\n"
     ]
    }
   ],
   "source": [
    "with strategy.scope():\n",
    "    model = tf.keras.Sequential([\n",
    "        tf.keras.applications.VGG19(\n",
    "            input_shape=(*IMAGE_SIZE, 3),\n",
    "            weights='imagenet',\n",
    "            include_top=False\n",
    "        ),\n",
    "        layers.GlobalAveragePooling2D(),\n",
    "        layers.Dense(5, activation='softmax')\n",
    "    ])\n",
    "    \n",
    "    model.compile(\n",
    "        optimizer='adam',\n",
    "        loss='sparse_categorical_crossentropy',\n",
    "        metrics=['sparse_categorical_accuracy']\n",
    "    )\n",
    "    \n",
    "    model.summary()"
   ]
  },
  {
   "cell_type": "code",
   "execution_count": 35,
   "metadata": {
    "execution": {
     "iopub.execute_input": "2021-12-26T03:50:20.394138Z",
     "iopub.status.busy": "2021-12-26T03:50:20.393917Z",
     "iopub.status.idle": "2021-12-26T04:32:23.216470Z",
     "shell.execute_reply": "2021-12-26T04:32:23.215500Z",
     "shell.execute_reply.started": "2021-12-26T03:50:20.394113Z"
    }
   },
   "outputs": [
    {
     "name": "stdout",
     "output_type": "stream",
     "text": [
      "Epoch 1/50\n",
      "125/125 [==============================] - 85s 496ms/step - loss: 24.7707 - sparse_categorical_accuracy: 0.5314 - val_loss: 1.1787 - val_sparse_categorical_accuracy: 0.6084\n",
      "\n",
      "Epoch 00001: val_loss did not improve from 0.38315\n",
      "Epoch 2/50\n",
      "125/125 [==============================] - 56s 450ms/step - loss: 1.1798 - sparse_categorical_accuracy: 0.6109 - val_loss: 1.1293 - val_sparse_categorical_accuracy: 0.6084\n",
      "\n",
      "Epoch 00002: val_loss did not improve from 0.38315\n",
      "Epoch 3/50\n",
      "125/125 [==============================] - 56s 451ms/step - loss: 1.1136 - sparse_categorical_accuracy: 0.6133 - val_loss: 1.1426 - val_sparse_categorical_accuracy: 0.5968\n",
      "\n",
      "Epoch 00003: val_loss did not improve from 0.38315\n",
      "Epoch 4/50\n",
      "125/125 [==============================] - 57s 456ms/step - loss: 1.0527 - sparse_categorical_accuracy: 0.6243 - val_loss: 1.0720 - val_sparse_categorical_accuracy: 0.6271\n",
      "\n",
      "Epoch 00004: val_loss did not improve from 0.38315\n",
      "Epoch 5/50\n",
      "125/125 [==============================] - 56s 452ms/step - loss: 1.0475 - sparse_categorical_accuracy: 0.6230 - val_loss: 1.3337 - val_sparse_categorical_accuracy: 0.4748\n",
      "\n",
      "Epoch 00005: val_loss did not improve from 0.38315\n",
      "Epoch 6/50\n",
      "125/125 [==============================] - 56s 451ms/step - loss: 0.9896 - sparse_categorical_accuracy: 0.6376 - val_loss: 1.2494 - val_sparse_categorical_accuracy: 0.5364\n",
      "\n",
      "Epoch 00006: val_loss did not improve from 0.38315\n",
      "Epoch 7/50\n",
      "125/125 [==============================] - 56s 452ms/step - loss: 0.9565 - sparse_categorical_accuracy: 0.6455 - val_loss: 1.0889 - val_sparse_categorical_accuracy: 0.5979\n",
      "\n",
      "Epoch 00007: val_loss did not improve from 0.38315\n",
      "\n",
      "Epoch 00007: ReduceLROnPlateau reducing learning rate to 0.00020000000949949026.\n",
      "Epoch 8/50\n",
      "125/125 [==============================] - 56s 450ms/step - loss: 0.8844 - sparse_categorical_accuracy: 0.6657 - val_loss: 0.9061 - val_sparse_categorical_accuracy: 0.6542\n",
      "\n",
      "Epoch 00008: val_loss did not improve from 0.38315\n",
      "Epoch 9/50\n",
      "125/125 [==============================] - 57s 453ms/step - loss: 0.8542 - sparse_categorical_accuracy: 0.6762 - val_loss: 0.9855 - val_sparse_categorical_accuracy: 0.6233\n",
      "\n",
      "Epoch 00009: val_loss did not improve from 0.38315\n",
      "Epoch 10/50\n",
      "125/125 [==============================] - 57s 453ms/step - loss: 0.8244 - sparse_categorical_accuracy: 0.6838 - val_loss: 0.9008 - val_sparse_categorical_accuracy: 0.6486\n",
      "\n",
      "Epoch 00010: val_loss did not improve from 0.38315\n",
      "Epoch 11/50\n",
      "125/125 [==============================] - 57s 454ms/step - loss: 0.8120 - sparse_categorical_accuracy: 0.6856 - val_loss: 0.8730 - val_sparse_categorical_accuracy: 0.6658\n",
      "\n",
      "Epoch 00011: val_loss did not improve from 0.38315\n",
      "Epoch 12/50\n",
      "125/125 [==============================] - 56s 451ms/step - loss: 0.7918 - sparse_categorical_accuracy: 0.6975 - val_loss: 0.9826 - val_sparse_categorical_accuracy: 0.6082\n",
      "\n",
      "Epoch 00012: val_loss did not improve from 0.38315\n",
      "Epoch 13/50\n",
      "125/125 [==============================] - 56s 450ms/step - loss: 0.7854 - sparse_categorical_accuracy: 0.7008 - val_loss: 0.9175 - val_sparse_categorical_accuracy: 0.6492\n",
      "\n",
      "Epoch 00013: val_loss did not improve from 0.38315\n",
      "Epoch 14/50\n",
      "125/125 [==============================] - 57s 454ms/step - loss: 0.7413 - sparse_categorical_accuracy: 0.7217 - val_loss: 0.8704 - val_sparse_categorical_accuracy: 0.6650\n",
      "\n",
      "Epoch 00014: val_loss did not improve from 0.38315\n",
      "Epoch 15/50\n",
      "125/125 [==============================] - 57s 453ms/step - loss: 0.7264 - sparse_categorical_accuracy: 0.7362 - val_loss: 0.9054 - val_sparse_categorical_accuracy: 0.6555\n",
      "\n",
      "Epoch 00015: val_loss did not improve from 0.38315\n",
      "Epoch 16/50\n",
      "125/125 [==============================] - 56s 449ms/step - loss: 0.7418 - sparse_categorical_accuracy: 0.7211 - val_loss: 0.8378 - val_sparse_categorical_accuracy: 0.6801\n",
      "\n",
      "Epoch 00016: val_loss did not improve from 0.38315\n",
      "Epoch 17/50\n",
      "125/125 [==============================] - 57s 454ms/step - loss: 0.6770 - sparse_categorical_accuracy: 0.7565 - val_loss: 0.7311 - val_sparse_categorical_accuracy: 0.7228\n",
      "\n",
      "Epoch 00017: val_loss did not improve from 0.38315\n",
      "Epoch 18/50\n",
      "125/125 [==============================] - 56s 451ms/step - loss: 0.6494 - sparse_categorical_accuracy: 0.7706 - val_loss: 0.7136 - val_sparse_categorical_accuracy: 0.7330\n",
      "\n",
      "Epoch 00018: val_loss did not improve from 0.38315\n",
      "Epoch 19/50\n",
      "125/125 [==============================] - 56s 449ms/step - loss: 0.6174 - sparse_categorical_accuracy: 0.7779 - val_loss: 0.7666 - val_sparse_categorical_accuracy: 0.7138\n",
      "\n",
      "Epoch 00019: val_loss did not improve from 0.38315\n",
      "Epoch 20/50\n",
      "125/125 [==============================] - 57s 453ms/step - loss: 0.5765 - sparse_categorical_accuracy: 0.7967 - val_loss: 0.6212 - val_sparse_categorical_accuracy: 0.7746\n",
      "\n",
      "Epoch 00020: val_loss did not improve from 0.38315\n",
      "Epoch 21/50\n",
      "125/125 [==============================] - 56s 450ms/step - loss: 0.5928 - sparse_categorical_accuracy: 0.7899 - val_loss: 0.6195 - val_sparse_categorical_accuracy: 0.7782\n",
      "\n",
      "Epoch 00021: val_loss did not improve from 0.38315\n",
      "Epoch 22/50\n",
      "125/125 [==============================] - 56s 451ms/step - loss: 0.5576 - sparse_categorical_accuracy: 0.8046 - val_loss: 0.6180 - val_sparse_categorical_accuracy: 0.7767\n",
      "\n",
      "Epoch 00022: val_loss did not improve from 0.38315\n",
      "Epoch 23/50\n",
      "125/125 [==============================] - 57s 453ms/step - loss: 0.5288 - sparse_categorical_accuracy: 0.8141 - val_loss: 0.6398 - val_sparse_categorical_accuracy: 0.7685\n",
      "\n",
      "Epoch 00023: val_loss did not improve from 0.38315\n",
      "Epoch 24/50\n",
      "125/125 [==============================] - 57s 458ms/step - loss: 0.5188 - sparse_categorical_accuracy: 0.8186 - val_loss: 0.6482 - val_sparse_categorical_accuracy: 0.7673\n",
      "\n",
      "Epoch 00024: val_loss did not improve from 0.38315\n",
      "Epoch 25/50\n",
      "125/125 [==============================] - 57s 453ms/step - loss: 0.5127 - sparse_categorical_accuracy: 0.8236 - val_loss: 0.6152 - val_sparse_categorical_accuracy: 0.7797\n",
      "\n",
      "Epoch 00025: val_loss did not improve from 0.38315\n",
      "Epoch 26/50\n",
      "125/125 [==============================] - 56s 452ms/step - loss: 0.5276 - sparse_categorical_accuracy: 0.8195 - val_loss: 0.6000 - val_sparse_categorical_accuracy: 0.7841\n",
      "\n",
      "Epoch 00026: val_loss did not improve from 0.38315\n",
      "Epoch 27/50\n",
      "125/125 [==============================] - 56s 452ms/step - loss: 0.4985 - sparse_categorical_accuracy: 0.8265 - val_loss: 0.6530 - val_sparse_categorical_accuracy: 0.7612\n",
      "\n",
      "Epoch 00027: val_loss did not improve from 0.38315\n",
      "Epoch 28/50\n",
      "125/125 [==============================] - 57s 453ms/step - loss: 0.4996 - sparse_categorical_accuracy: 0.8280 - val_loss: 0.5826 - val_sparse_categorical_accuracy: 0.7898\n",
      "\n",
      "Epoch 00028: val_loss did not improve from 0.38315\n",
      "Epoch 29/50\n",
      "125/125 [==============================] - 57s 454ms/step - loss: 0.4916 - sparse_categorical_accuracy: 0.8262 - val_loss: 0.6463 - val_sparse_categorical_accuracy: 0.7710\n",
      "\n",
      "Epoch 00029: val_loss did not improve from 0.38315\n",
      "Epoch 30/50\n",
      "125/125 [==============================] - 57s 457ms/step - loss: 0.5043 - sparse_categorical_accuracy: 0.8273 - val_loss: 0.6258 - val_sparse_categorical_accuracy: 0.7757\n",
      "\n",
      "Epoch 00030: val_loss did not improve from 0.38315\n",
      "Epoch 31/50\n",
      "125/125 [==============================] - 56s 451ms/step - loss: 0.4953 - sparse_categorical_accuracy: 0.8323 - val_loss: 0.5901 - val_sparse_categorical_accuracy: 0.7913\n",
      "\n",
      "Epoch 00031: val_loss did not improve from 0.38315\n",
      "\n",
      "Epoch 00031: ReduceLROnPlateau reducing learning rate to 4.0000001899898055e-05.\n",
      "Epoch 32/50\n",
      "125/125 [==============================] - 57s 452ms/step - loss: 0.4639 - sparse_categorical_accuracy: 0.8393 - val_loss: 0.5389 - val_sparse_categorical_accuracy: 0.8085\n",
      "\n",
      "Epoch 00032: val_loss did not improve from 0.38315\n",
      "Epoch 33/50\n",
      "125/125 [==============================] - 56s 452ms/step - loss: 0.4368 - sparse_categorical_accuracy: 0.8498 - val_loss: 0.5362 - val_sparse_categorical_accuracy: 0.8148\n",
      "\n",
      "Epoch 00033: val_loss did not improve from 0.38315\n",
      "Epoch 34/50\n",
      "125/125 [==============================] - 57s 453ms/step - loss: 0.4295 - sparse_categorical_accuracy: 0.8500 - val_loss: 0.5163 - val_sparse_categorical_accuracy: 0.8226\n",
      "\n",
      "Epoch 00034: val_loss did not improve from 0.38315\n",
      "Epoch 35/50\n",
      "125/125 [==============================] - 56s 451ms/step - loss: 0.4236 - sparse_categorical_accuracy: 0.8556 - val_loss: 0.5245 - val_sparse_categorical_accuracy: 0.8169\n",
      "\n",
      "Epoch 00035: val_loss did not improve from 0.38315\n",
      "Epoch 36/50\n",
      "125/125 [==============================] - 57s 452ms/step - loss: 0.4204 - sparse_categorical_accuracy: 0.8580 - val_loss: 0.5424 - val_sparse_categorical_accuracy: 0.8104\n",
      "\n",
      "Epoch 00036: val_loss did not improve from 0.38315\n",
      "Epoch 37/50\n",
      "125/125 [==============================] - 57s 456ms/step - loss: 0.4250 - sparse_categorical_accuracy: 0.8513 - val_loss: 0.5188 - val_sparse_categorical_accuracy: 0.8188\n",
      "\n",
      "Epoch 00037: val_loss did not improve from 0.38315\n",
      "\n",
      "Epoch 00037: ReduceLROnPlateau reducing learning rate to 8.000000525498762e-06.\n",
      "Epoch 38/50\n",
      "125/125 [==============================] - 56s 449ms/step - loss: 0.4165 - sparse_categorical_accuracy: 0.8558 - val_loss: 0.5197 - val_sparse_categorical_accuracy: 0.8197\n",
      "\n",
      "Epoch 00038: val_loss did not improve from 0.38315\n",
      "Epoch 39/50\n",
      "125/125 [==============================] - 57s 456ms/step - loss: 0.4215 - sparse_categorical_accuracy: 0.8586 - val_loss: 0.5284 - val_sparse_categorical_accuracy: 0.8157\n",
      "\n",
      "Epoch 00039: val_loss did not improve from 0.38315\n",
      "Epoch 40/50\n",
      "125/125 [==============================] - 57s 457ms/step - loss: 0.4098 - sparse_categorical_accuracy: 0.8625 - val_loss: 0.5239 - val_sparse_categorical_accuracy: 0.8188\n",
      "\n",
      "Epoch 00040: val_loss did not improve from 0.38315\n",
      "\n",
      "Epoch 00040: ReduceLROnPlateau reducing learning rate to 1.6000001778593287e-06.\n",
      "Epoch 41/50\n",
      "125/125 [==============================] - 56s 449ms/step - loss: 0.4109 - sparse_categorical_accuracy: 0.8589 - val_loss: 0.5264 - val_sparse_categorical_accuracy: 0.8159\n",
      "\n",
      "Epoch 00041: val_loss did not improve from 0.38315\n",
      "Epoch 42/50\n",
      "125/125 [==============================] - 57s 455ms/step - loss: 0.4021 - sparse_categorical_accuracy: 0.8592 - val_loss: 0.5239 - val_sparse_categorical_accuracy: 0.8175\n",
      "\n",
      "Epoch 00042: val_loss did not improve from 0.38315\n",
      "Epoch 43/50\n",
      "125/125 [==============================] - 57s 456ms/step - loss: 0.4009 - sparse_categorical_accuracy: 0.8638 - val_loss: 0.5268 - val_sparse_categorical_accuracy: 0.8154\n",
      "\n",
      "Epoch 00043: val_loss did not improve from 0.38315\n",
      "\n",
      "Epoch 00043: ReduceLROnPlateau reducing learning rate to 3.200000264769187e-07.\n",
      "Epoch 44/50\n",
      "125/125 [==============================] - 57s 454ms/step - loss: 0.4116 - sparse_categorical_accuracy: 0.8596 - val_loss: 0.5274 - val_sparse_categorical_accuracy: 0.8150\n",
      "Restoring model weights from the end of the best epoch.\n",
      "\n",
      "Epoch 00044: val_loss did not improve from 0.38315\n",
      "Epoch 00044: early stopping\n"
     ]
    }
   ],
   "source": [
    "history = model.fit(train_dataset, \n",
    "                    steps_per_epoch=STEPS_PER_EPOCH,\n",
    "                    epochs=50,\n",
    "                    validation_data=valid_dataset,\n",
    "                    validation_steps=VALID_STEPS,\n",
    "                    callbacks = [early_stopping, checkpoint, reduce_lr])"
   ]
  },
  {
   "cell_type": "code",
   "execution_count": 36,
   "metadata": {
    "execution": {
     "iopub.execute_input": "2021-12-26T04:32:23.218112Z",
     "iopub.status.busy": "2021-12-26T04:32:23.217858Z",
     "iopub.status.idle": "2021-12-26T04:32:23.627024Z",
     "shell.execute_reply": "2021-12-26T04:32:23.626092Z",
     "shell.execute_reply.started": "2021-12-26T04:32:23.218082Z"
    }
   },
   "outputs": [
    {
     "data": {
      "image/png": "[encoded data removed]",
      "text/plain": [
       "<Figure size 432x288 with 1 Axes>"
      ]
     },
     "metadata": {
      "needs_background": "light"
     },
     "output_type": "display_data"
    },
    {
     "data": {
      "image/png": "[encoded data removed]",
      "text/plain": [
       "<Figure size 432x288 with 1 Axes>"
      ]
     },
     "metadata": {
      "needs_background": "light"
     },
     "output_type": "display_data"
    }
   ],
   "source": [
    "history_frame = pd.DataFrame(history.history)\n",
    "history_frame.loc[:, ['loss', 'val_loss']].plot()\n",
    "history_frame.loc[:, ['sparse_categorical_accuracy', 'val_sparse_categorical_accuracy']].plot();"
   ]
  },
  {
   "cell_type": "code",
   "execution_count": 16,
   "metadata": {
    "execution": {
     "iopub.execute_input": "2021-12-26T15:13:04.964357Z",
     "iopub.status.busy": "2021-12-26T15:13:04.964055Z",
     "iopub.status.idle": "2021-12-26T15:13:44.923947Z",
     "shell.execute_reply": "2021-12-26T15:13:44.922927Z",
     "shell.execute_reply.started": "2021-12-26T15:13:04.964325Z"
    }
   },
   "outputs": [
    {
     "name": "stdout",
     "output_type": "stream",
     "text": [
      "Model: \"sequential_1\"\n",
      "_________________________________________________________________\n",
      "Layer (type)                 Output Shape              Param #   \n",
      "=================================================================\n",
      "NASNet (Functional)          (None, 16, 16, 4032)      84916818  \n",
      "_________________________________________________________________\n",
      "global_average_pooling2d_1 ( (None, 4032)              0         \n",
      "_________________________________________________________________\n",
      "dense_1 (Dense)              (None, 5)                 20165     \n",
      "=================================================================\n",
      "Total params: 84,936,983\n",
      "Trainable params: 84,740,315\n",
      "Non-trainable params: 196,668\n",
      "_________________________________________________________________\n"
     ]
    }
   ],
   "source": [
    "with strategy.scope():\n",
    "    model = tf.keras.Sequential([\n",
    "        tf.keras.applications.NASNetLarge(\n",
    "            input_shape=(*IMAGE_SIZE, 3),\n",
    "            weights=None,\n",
    "            include_top=False\n",
    "        ),\n",
    "        layers.GlobalAveragePooling2D(),\n",
    "        layers.Dense(5, activation='softmax')\n",
    "    ])\n",
    "    \n",
    "    model.compile(\n",
    "        optimizer='adam',\n",
    "        loss='sparse_categorical_crossentropy',\n",
    "        metrics=['sparse_categorical_accuracy']\n",
    "    )\n",
    "    \n",
    "    model.summary()\n"
   ]
  },
  {
   "cell_type": "code",
   "execution_count": 17,
   "metadata": {
    "execution": {
     "iopub.execute_input": "2021-12-26T15:13:44.926317Z",
     "iopub.status.busy": "2021-12-26T15:13:44.925970Z",
     "iopub.status.idle": "2021-12-26T16:09:59.256045Z",
     "shell.execute_reply": "2021-12-26T16:09:59.255218Z",
     "shell.execute_reply.started": "2021-12-26T15:13:44.926257Z"
    }
   },
   "outputs": [
    {
     "name": "stdout",
     "output_type": "stream",
     "text": [
      "Epoch 1/25\n",
      "125/125 [==============================] - 439s 1s/step - loss: 1.5056 - sparse_categorical_accuracy: 0.5821 - val_loss: 1420.5487 - val_sparse_categorical_accuracy: 0.1023\n",
      "\n",
      "Epoch 00001: val_loss did not improve from 13.45446\n",
      "Epoch 2/25\n",
      "125/125 [==============================] - 112s 891ms/step - loss: 1.0437 - sparse_categorical_accuracy: 0.6246 - val_loss: 593.7744 - val_sparse_categorical_accuracy: 0.0467\n",
      "\n",
      "Epoch 00002: val_loss did not improve from 13.45446\n",
      "Epoch 3/25\n",
      "125/125 [==============================] - 112s 894ms/step - loss: 0.9531 - sparse_categorical_accuracy: 0.6426 - val_loss: 336.8155 - val_sparse_categorical_accuracy: 0.1877\n",
      "\n",
      "Epoch 00003: val_loss did not improve from 13.45446\n",
      "Epoch 4/25\n",
      "125/125 [==============================] - 111s 890ms/step - loss: 0.8940 - sparse_categorical_accuracy: 0.6583 - val_loss: 3976.3169 - val_sparse_categorical_accuracy: 0.5844\n",
      "\n",
      "Epoch 00004: val_loss did not improve from 13.45446\n",
      "Epoch 5/25\n",
      "125/125 [==============================] - 112s 892ms/step - loss: 0.8680 - sparse_categorical_accuracy: 0.6684 - val_loss: 2396.9329 - val_sparse_categorical_accuracy: 0.6012\n",
      "\n",
      "Epoch 00005: val_loss did not improve from 13.45446\n",
      "Epoch 6/25\n",
      "125/125 [==============================] - 112s 894ms/step - loss: 0.8123 - sparse_categorical_accuracy: 0.6897 - val_loss: 2727.4907 - val_sparse_categorical_accuracy: 0.5396\n",
      "\n",
      "Epoch 00006: val_loss did not improve from 13.45446\n",
      "\n",
      "Epoch 00006: ReduceLROnPlateau reducing learning rate to 0.00020000000949949026.\n",
      "Epoch 7/25\n",
      "125/125 [==============================] - 112s 893ms/step - loss: 0.7130 - sparse_categorical_accuracy: 0.7335 - val_loss: 431.2530 - val_sparse_categorical_accuracy: 0.4375\n",
      "\n",
      "Epoch 00007: val_loss did not improve from 13.45446\n",
      "Epoch 8/25\n",
      "125/125 [==============================] - 112s 893ms/step - loss: 0.6694 - sparse_categorical_accuracy: 0.7526 - val_loss: 457.0463 - val_sparse_categorical_accuracy: 0.5823\n",
      "\n",
      "Epoch 00008: val_loss did not improve from 13.45446\n",
      "Epoch 9/25\n",
      "125/125 [==============================] - 113s 900ms/step - loss: 0.6240 - sparse_categorical_accuracy: 0.7721 - val_loss: 399.4886 - val_sparse_categorical_accuracy: 0.6092\n",
      "\n",
      "Epoch 00009: val_loss did not improve from 13.45446\n",
      "\n",
      "Epoch 00009: ReduceLROnPlateau reducing learning rate to 4.0000001899898055e-05.\n",
      "Epoch 10/25\n",
      "125/125 [==============================] - 112s 891ms/step - loss: 0.5998 - sparse_categorical_accuracy: 0.7800 - val_loss: 189.8070 - val_sparse_categorical_accuracy: 0.6105\n",
      "\n",
      "Epoch 00010: val_loss did not improve from 13.45446\n",
      "Epoch 11/25\n",
      "125/125 [==============================] - 112s 894ms/step - loss: 0.5782 - sparse_categorical_accuracy: 0.7893 - val_loss: 135.2513 - val_sparse_categorical_accuracy: 0.6124\n",
      "\n",
      "Epoch 00011: val_loss did not improve from 13.45446\n",
      "Epoch 12/25\n",
      "125/125 [==============================] - 112s 895ms/step - loss: 0.5759 - sparse_categorical_accuracy: 0.7901 - val_loss: 95.2862 - val_sparse_categorical_accuracy: 0.6130\n",
      "\n",
      "Epoch 00012: val_loss did not improve from 13.45446\n",
      "Epoch 13/25\n",
      "125/125 [==============================] - 112s 892ms/step - loss: 0.5625 - sparse_categorical_accuracy: 0.7944 - val_loss: 66.6529 - val_sparse_categorical_accuracy: 0.6130\n",
      "\n",
      "Epoch 00013: val_loss did not improve from 13.45446\n",
      "Epoch 14/25\n",
      "125/125 [==============================] - 112s 896ms/step - loss: 0.5423 - sparse_categorical_accuracy: 0.8047 - val_loss: 45.2097 - val_sparse_categorical_accuracy: 0.6117\n",
      "\n",
      "Epoch 00014: val_loss did not improve from 13.45446\n",
      "Epoch 15/25\n",
      "125/125 [==============================] - 112s 895ms/step - loss: 0.5422 - sparse_categorical_accuracy: 0.8034 - val_loss: 32.4491 - val_sparse_categorical_accuracy: 0.6119\n",
      "\n",
      "Epoch 00015: val_loss did not improve from 13.45446\n",
      "Epoch 16/25\n",
      "125/125 [==============================] - 112s 891ms/step - loss: 0.5530 - sparse_categorical_accuracy: 0.8036 - val_loss: 24.5036 - val_sparse_categorical_accuracy: 0.6115\n",
      "\n",
      "Epoch 00016: val_loss did not improve from 13.45446\n",
      "Epoch 17/25\n",
      "125/125 [==============================] - 112s 894ms/step - loss: 0.5253 - sparse_categorical_accuracy: 0.8149 - val_loss: 18.0325 - val_sparse_categorical_accuracy: 0.6094\n",
      "\n",
      "Epoch 00017: val_loss did not improve from 13.45446\n",
      "Epoch 18/25\n",
      "125/125 [==============================] - 112s 894ms/step - loss: 0.5282 - sparse_categorical_accuracy: 0.8123 - val_loss: 12.3195 - val_sparse_categorical_accuracy: 0.6050\n",
      "\n",
      "Epoch 00018: val_loss improved from 13.45446 to 12.31953, saving model to Tbest_model.hdf5\n",
      "Epoch 19/25\n",
      "125/125 [==============================] - 112s 897ms/step - loss: 0.5177 - sparse_categorical_accuracy: 0.8157 - val_loss: 8.9736 - val_sparse_categorical_accuracy: 0.5837\n",
      "\n",
      "Epoch 00019: val_loss improved from 12.31953 to 8.97364, saving model to Tbest_model.hdf5\n",
      "Epoch 20/25\n",
      "125/125 [==============================] - 112s 897ms/step - loss: 0.5184 - sparse_categorical_accuracy: 0.8147 - val_loss: 6.1877 - val_sparse_categorical_accuracy: 0.5574\n",
      "\n",
      "Epoch 00020: val_loss improved from 8.97364 to 6.18770, saving model to Tbest_model.hdf5\n",
      "Epoch 21/25\n",
      "125/125 [==============================] - 112s 898ms/step - loss: 0.5094 - sparse_categorical_accuracy: 0.8171 - val_loss: 4.8915 - val_sparse_categorical_accuracy: 0.5425\n",
      "\n",
      "Epoch 00021: val_loss improved from 6.18770 to 4.89146, saving model to Tbest_model.hdf5\n",
      "Epoch 22/25\n",
      "125/125 [==============================] - 112s 895ms/step - loss: 0.5025 - sparse_categorical_accuracy: 0.8208 - val_loss: 3.9510 - val_sparse_categorical_accuracy: 0.5252\n",
      "\n",
      "Epoch 00022: val_loss improved from 4.89146 to 3.95103, saving model to Tbest_model.hdf5\n",
      "Epoch 23/25\n",
      "125/125 [==============================] - 112s 892ms/step - loss: 0.4930 - sparse_categorical_accuracy: 0.8239 - val_loss: 3.4691 - val_sparse_categorical_accuracy: 0.5042\n",
      "\n",
      "Epoch 00023: val_loss improved from 3.95103 to 3.46907, saving model to Tbest_model.hdf5\n",
      "Epoch 24/25\n",
      "125/125 [==============================] - 112s 896ms/step - loss: 0.4906 - sparse_categorical_accuracy: 0.8212 - val_loss: 2.7560 - val_sparse_categorical_accuracy: 0.4748\n",
      "\n",
      "Epoch 00024: val_loss improved from 3.46907 to 2.75599, saving model to Tbest_model.hdf5\n",
      "Epoch 25/25\n",
      "125/125 [==============================] - 112s 894ms/step - loss: 0.4905 - sparse_categorical_accuracy: 0.8269 - val_loss: 2.5935 - val_sparse_categorical_accuracy: 0.4364\n",
      "\n",
      "Epoch 00025: val_loss improved from 2.75599 to 2.59346, saving model to Tbest_model.hdf5\n"
     ]
    }
   ],
   "source": [
    "history = model.fit(train_dataset, \n",
    "                    steps_per_epoch=STEPS_PER_EPOCH,\n",
    "                    epochs=25,\n",
    "                    validation_data=valid_dataset,\n",
    "                    validation_steps=VALID_STEPS,\n",
    "                    callbacks = [early_stopping, checkpoint, reduce_lr])"
   ]
  },
  {
   "cell_type": "code",
   "execution_count": 18,
   "metadata": {
    "execution": {
     "iopub.execute_input": "2021-12-26T16:09:59.257860Z",
     "iopub.status.busy": "2021-12-26T16:09:59.257405Z",
     "iopub.status.idle": "2021-12-26T16:09:59.795156Z",
     "shell.execute_reply": "2021-12-26T16:09:59.794210Z",
     "shell.execute_reply.started": "2021-12-26T16:09:59.257818Z"
    }
   },
   "outputs": [
    {
     "data": {
      "image/png": "[encoded data removed]",
      "text/plain": [
       "<Figure size 432x288 with 1 Axes>"
      ]
     },
     "metadata": {
      "needs_background": "light"
     },
     "output_type": "display_data"
    },
    {
     "data": {
      "image/png": "[encoded data removed]",
      "text/plain": [
       "<Figure size 432x288 with 1 Axes>"
      ]
     },
     "metadata": {
      "needs_background": "light"
     },
     "output_type": "display_data"
    }
   ],
   "source": [
    "history_frame = pd.DataFrame(history.history)\n",
    "history_frame.loc[:, ['loss', 'val_loss']].plot()\n",
    "history_frame.loc[:, ['sparse_categorical_accuracy', 'val_sparse_categorical_accuracy']].plot();"
   ]
  }
 ],
 "metadata": {
  "kernelspec": {
   "display_name": "Python 3 (ipykernel)",
   "language": "python",
   "name": "python3"
  },
  "language_info": {
   "codemirror_mode": {
    "name": "ipython",
    "version": 3
   },
   "file_extension": ".py",
   "mimetype": "text/x-python",
   "name": "python",
   "nbconvert_exporter": "python",
   "pygments_lexer": "ipython3",
   "version": "3.12.4"
  }
 },
 "nbformat": 4,
 "nbformat_minor": 4
}
